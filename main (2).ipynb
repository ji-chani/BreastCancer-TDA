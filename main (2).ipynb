{
 "cells": [
  {
   "cell_type": "code",
   "execution_count": 1,
   "id": "42ab3430",
   "metadata": {},
   "outputs": [],
   "source": [
    "import numpy as np\n",
    "from modules import zip2array_filenames, extract_pixels, PersistentHomologyClassifier, plot_metrics\n",
    "from sklearn.model_selection import train_test_split, StratifiedKFold\n",
    "from skimage.feature import hog\n",
    "from sklearn.decomposition import PCA\n",
    "from sklearn.preprocessing import StandardScaler, MinMaxScaler, RobustScaler\n",
    "from sklearn.metrics import f1_score, classification_report\n",
    "from itertools import product"
   ]
  },
  {
   "cell_type": "code",
   "execution_count": 2,
   "id": "45ab176f",
   "metadata": {},
   "outputs": [],
   "source": [
    "# global controls\n",
    "extract_data = False\n",
    "extract_features = True\n",
    "ppc = [(4,4), (8,8), (16,16)]\n",
    "cpb = [(2,2), (3,3)]\n",
    "scalers = [StandardScaler(), MinMaxScaler(), RobustScaler()]\n",
    "cv_folds = 5"
   ]
  },
  {
   "cell_type": "code",
   "execution_count": 3,
   "id": "dbc16df4",
   "metadata": {},
   "outputs": [
    {
     "name": "stdout",
     "output_type": "stream",
     "text": [
      "Breast cancer data has been loaded.\n"
     ]
    }
   ],
   "source": [
    "if extract_data:\n",
    "    # ------- FILE EXTRACTION ------ \n",
    "    # Extract File Names\n",
    "    breast_cancer = {'target_names': ['benign', 'malignant'], 'image_dim': (224, 224, 3)}\n",
    "    classes = breast_cancer['target_names']\n",
    "    zip_paths = ['BreastCancer_Benign.zip', 'BreastCancer_Malignant.zip']\n",
    "\n",
    "    for idx, clss in enumerate(classes):\n",
    "        breast_cancer[clss+'_paths'] = zip2array_filenames(zip_paths[idx], 'png')\n",
    "\n",
    "    num_benign, num_malignant = len(breast_cancer['benign_paths']), len(breast_cancer['malignant_paths'])\n",
    "\n",
    "    # Extract Pixels using Image File Names\n",
    "    for c in classes:\n",
    "        breast_cancer[c+'_pixels'] = [extract_pixels(img_path, grayscaled=True, flattened=True) for img_path in breast_cancer[c+'_paths']]\n",
    "\n",
    "    # Organizing Data according the Pixels and Targets\n",
    "    breast_cancer['data'], breast_cancer['target'] = [], []\n",
    "    for idx, clss in enumerate(classes):\n",
    "        new_data = [data for data in breast_cancer[clss+'_pixels']]\n",
    "        new_target = [idx for _ in breast_cancer[clss+'_pixels']]\n",
    "\n",
    "        breast_cancer['data'].extend(new_data)\n",
    "        breast_cancer['target'].extend(new_target)\n",
    "    \n",
    "    np.save('breast_cancer_dataset.npy', breast_cancer)\n",
    "\n",
    "else:\n",
    "    # load breast_cancer dictionary into npy file\n",
    "    breast_cancer = np.load('breast_cancer_dataset.npy', allow_pickle=True).item()\n",
    "    classes = breast_cancer['target_names']\n",
    "\n",
    "    for c in classes:\n",
    "        breast_cancer[c+'_paths'] = breast_cancer.pop(c+'Paths')\n",
    "        breast_cancer[c+'_pixels'] = breast_cancer.pop(c+'Pixels')\n",
    "    \n",
    "    for k in ['data', 'target']:\n",
    "        breast_cancer[k] = np.array(breast_cancer[k])\n",
    "\n",
    "print(\"Breast cancer data has been loaded.\")"
   ]
  },
  {
   "cell_type": "code",
   "execution_count": 9,
   "id": "dddf8f99",
   "metadata": {},
   "outputs": [
    {
     "name": "stdout",
     "output_type": "stream",
     "text": [
      "Preparing dataset ...\n",
      "\n",
      "Data is reshaped. \n",
      " Dimension of each instance: 50176\n",
      "Data is split. \n",
      " Train/Validation size: 6105 images \n",
      " Test size: 1527 images \n",
      "\n",
      "======= Running parameter combination 1 =======\n",
      "HOG: pixels_per_cell = (4, 4), cells_per_block: (2, 2)\n",
      "Scaler: StandardScaler()\n",
      "\n",
      " Fold 1 ------------\n",
      "\n",
      " Extracting features using HOG ...\n",
      " Features extracted. \n",
      " Dimension of each instance: 108900\n",
      "\n",
      " Reducing dimensions using PCA ...\n",
      " Dimension reduced. \n",
      " Dimension of each instance: 2225\n",
      "\n",
      " Scaling the data ...\n",
      " Data normalized. \n",
      " Final dimension of each instance: 2225\n",
      "\n",
      " Validating using PHCA ...\n"
     ]
    },
    {
     "name": "stderr",
     "output_type": "stream",
     "text": [
      "100%|██████████| 1221/1221 [31:03<00:00,  1.53s/it]\n"
     ]
    },
    {
     "name": "stdout",
     "output_type": "stream",
     "text": [
      " Validation complete. \n",
      " Validation score: 0.9564 \n",
      "\n",
      "\n",
      "\n",
      " Fold 2 ------------\n",
      "\n",
      " Extracting features using HOG ...\n",
      " Features extracted. \n",
      " Dimension of each instance: 108900\n",
      "\n",
      " Reducing dimensions using PCA ...\n",
      " Dimension reduced. \n",
      " Dimension of each instance: 2213\n",
      "\n",
      " Scaling the data ...\n",
      " Data normalized. \n",
      " Final dimension of each instance: 2213\n",
      "\n",
      " Validating using PHCA ...\n"
     ]
    },
    {
     "name": "stderr",
     "output_type": "stream",
     "text": [
      "100%|██████████| 1221/1221 [31:36<00:00,  1.55s/it]\n"
     ]
    },
    {
     "name": "stdout",
     "output_type": "stream",
     "text": [
      " Validation complete. \n",
      " Validation score: 0.9496 \n",
      "\n",
      "\n",
      "\n",
      " Fold 3 ------------\n",
      "\n",
      " Extracting features using HOG ...\n",
      " Features extracted. \n",
      " Dimension of each instance: 108900\n",
      "\n",
      " Reducing dimensions using PCA ...\n",
      " Dimension reduced. \n",
      " Dimension of each instance: 2224\n",
      "\n",
      " Scaling the data ...\n",
      " Data normalized. \n",
      " Final dimension of each instance: 2224\n",
      "\n",
      " Validating using PHCA ...\n"
     ]
    },
    {
     "name": "stderr",
     "output_type": "stream",
     "text": [
      "100%|██████████| 1221/1221 [31:26<00:00,  1.55s/it]\n"
     ]
    },
    {
     "name": "stdout",
     "output_type": "stream",
     "text": [
      " Validation complete. \n",
      " Validation score: 0.9590 \n",
      "\n",
      "\n",
      "\n",
      " Fold 4 ------------\n",
      "\n",
      " Extracting features using HOG ...\n",
      " Features extracted. \n",
      " Dimension of each instance: 108900\n",
      "\n",
      " Reducing dimensions using PCA ...\n",
      " Dimension reduced. \n",
      " Dimension of each instance: 2236\n",
      "\n",
      " Scaling the data ...\n",
      " Data normalized. \n",
      " Final dimension of each instance: 2236\n",
      "\n",
      " Validating using PHCA ...\n"
     ]
    },
    {
     "name": "stderr",
     "output_type": "stream",
     "text": [
      "100%|██████████| 1221/1221 [31:32<00:00,  1.55s/it]\n"
     ]
    },
    {
     "name": "stdout",
     "output_type": "stream",
     "text": [
      " Validation complete. \n",
      " Validation score: 0.9584 \n",
      "\n",
      "\n",
      "\n",
      " Fold 5 ------------\n",
      "\n",
      " Extracting features using HOG ...\n",
      " Features extracted. \n",
      " Dimension of each instance: 108900\n",
      "\n",
      " Reducing dimensions using PCA ...\n",
      " Dimension reduced. \n",
      " Dimension of each instance: 2220\n",
      "\n",
      " Scaling the data ...\n",
      " Data normalized. \n",
      " Final dimension of each instance: 2220\n",
      "\n",
      " Validating using PHCA ...\n"
     ]
    },
    {
     "name": "stderr",
     "output_type": "stream",
     "text": [
      "100%|██████████| 1221/1221 [31:36<00:00,  1.55s/it]\n"
     ]
    },
    {
     "name": "stdout",
     "output_type": "stream",
     "text": [
      " Validation complete. \n",
      " Validation score: 0.9463 \n",
      "\n",
      "\n",
      "======= Running parameter combination 2 =======\n",
      "HOG: pixels_per_cell = (4, 4), cells_per_block: (2, 2)\n",
      "Scaler: MinMaxScaler()\n",
      "\n",
      " Fold 1 ------------\n",
      "\n",
      " Extracting features using HOG ...\n",
      " Features extracted. \n",
      " Dimension of each instance: 108900\n",
      "\n",
      " Reducing dimensions using PCA ...\n",
      " Dimension reduced. \n",
      " Dimension of each instance: 2225\n",
      "\n",
      " Scaling the data ...\n",
      " Data normalized. \n",
      " Final dimension of each instance: 2225\n",
      "\n",
      " Validating using PHCA ...\n"
     ]
    },
    {
     "name": "stderr",
     "output_type": "stream",
     "text": [
      "100%|██████████| 1221/1221 [33:00<00:00,  1.62s/it]\n"
     ]
    },
    {
     "name": "stdout",
     "output_type": "stream",
     "text": [
      " Validation complete. \n",
      " Validation score: 0.9577 \n",
      "\n",
      "\n",
      "\n",
      " Fold 2 ------------\n",
      "\n",
      " Extracting features using HOG ...\n",
      " Features extracted. \n",
      " Dimension of each instance: 108900\n",
      "\n",
      " Reducing dimensions using PCA ...\n",
      " Dimension reduced. \n",
      " Dimension of each instance: 2213\n",
      "\n",
      " Scaling the data ...\n",
      " Data normalized. \n",
      " Final dimension of each instance: 2213\n",
      "\n",
      " Validating using PHCA ...\n"
     ]
    },
    {
     "name": "stderr",
     "output_type": "stream",
     "text": [
      "100%|██████████| 1221/1221 [33:03<00:00,  1.62s/it]\n"
     ]
    },
    {
     "name": "stdout",
     "output_type": "stream",
     "text": [
      " Validation complete. \n",
      " Validation score: 0.9467 \n",
      "\n",
      "\n",
      "\n",
      " Fold 3 ------------\n",
      "\n",
      " Extracting features using HOG ...\n",
      " Features extracted. \n",
      " Dimension of each instance: 108900\n",
      "\n",
      " Reducing dimensions using PCA ...\n",
      " Dimension reduced. \n",
      " Dimension of each instance: 2224\n",
      "\n",
      " Scaling the data ...\n",
      " Data normalized. \n",
      " Final dimension of each instance: 2224\n",
      "\n",
      " Validating using PHCA ...\n"
     ]
    },
    {
     "name": "stderr",
     "output_type": "stream",
     "text": [
      "100%|██████████| 1221/1221 [32:37<00:00,  1.60s/it]\n"
     ]
    },
    {
     "name": "stdout",
     "output_type": "stream",
     "text": [
      " Validation complete. \n",
      " Validation score: 0.9571 \n",
      "\n",
      "\n",
      "\n",
      " Fold 4 ------------\n",
      "\n",
      " Extracting features using HOG ...\n",
      " Features extracted. \n",
      " Dimension of each instance: 108900\n",
      "\n",
      " Reducing dimensions using PCA ...\n",
      " Dimension reduced. \n",
      " Dimension of each instance: 2236\n",
      "\n",
      " Scaling the data ...\n",
      " Data normalized. \n",
      " Final dimension of each instance: 2236\n",
      "\n",
      " Validating using PHCA ...\n"
     ]
    },
    {
     "name": "stderr",
     "output_type": "stream",
     "text": [
      "100%|██████████| 1221/1221 [32:27<00:00,  1.59s/it]\n"
     ]
    },
    {
     "name": "stdout",
     "output_type": "stream",
     "text": [
      " Validation complete. \n",
      " Validation score: 0.9574 \n",
      "\n",
      "\n",
      "\n",
      " Fold 5 ------------\n",
      "\n",
      " Extracting features using HOG ...\n",
      " Features extracted. \n",
      " Dimension of each instance: 108900\n",
      "\n",
      " Reducing dimensions using PCA ...\n",
      " Dimension reduced. \n",
      " Dimension of each instance: 2220\n",
      "\n",
      " Scaling the data ...\n",
      " Data normalized. \n",
      " Final dimension of each instance: 2220\n",
      "\n",
      " Validating using PHCA ...\n"
     ]
    },
    {
     "name": "stderr",
     "output_type": "stream",
     "text": [
      "100%|██████████| 1221/1221 [32:48<00:00,  1.61s/it]\n"
     ]
    },
    {
     "name": "stdout",
     "output_type": "stream",
     "text": [
      " Validation complete. \n",
      " Validation score: 0.9471 \n",
      "\n",
      "\n",
      "======= Running parameter combination 3 =======\n",
      "HOG: pixels_per_cell = (4, 4), cells_per_block: (2, 2)\n",
      "Scaler: RobustScaler()\n",
      "\n",
      " Fold 1 ------------\n",
      "\n",
      " Extracting features using HOG ...\n",
      " Features extracted. \n",
      " Dimension of each instance: 108900\n",
      "\n",
      " Reducing dimensions using PCA ...\n",
      " Dimension reduced. \n",
      " Dimension of each instance: 2225\n",
      "\n",
      " Scaling the data ...\n",
      " Data normalized. \n",
      " Final dimension of each instance: 2225\n",
      "\n",
      " Validating using PHCA ...\n"
     ]
    },
    {
     "name": "stderr",
     "output_type": "stream",
     "text": [
      "100%|██████████| 1221/1221 [31:13<00:00,  1.53s/it]\n"
     ]
    },
    {
     "name": "stdout",
     "output_type": "stream",
     "text": [
      " Validation complete. \n",
      " Validation score: 0.9557 \n",
      "\n",
      "\n",
      "\n",
      " Fold 2 ------------\n",
      "\n",
      " Extracting features using HOG ...\n",
      " Features extracted. \n",
      " Dimension of each instance: 108900\n",
      "\n",
      " Reducing dimensions using PCA ...\n",
      " Dimension reduced. \n",
      " Dimension of each instance: 2213\n",
      "\n",
      " Scaling the data ...\n",
      " Data normalized. \n",
      " Final dimension of each instance: 2213\n",
      "\n",
      " Validating using PHCA ...\n"
     ]
    },
    {
     "name": "stderr",
     "output_type": "stream",
     "text": [
      "100%|██████████| 1221/1221 [31:25<00:00,  1.54s/it]\n"
     ]
    },
    {
     "name": "stdout",
     "output_type": "stream",
     "text": [
      " Validation complete. \n",
      " Validation score: 0.9509 \n",
      "\n",
      "\n",
      "\n",
      " Fold 3 ------------\n",
      "\n",
      " Extracting features using HOG ...\n",
      " Features extracted. \n",
      " Dimension of each instance: 108900\n",
      "\n",
      " Reducing dimensions using PCA ...\n",
      " Dimension reduced. \n",
      " Dimension of each instance: 2224\n",
      "\n",
      " Scaling the data ...\n",
      " Data normalized. \n",
      " Final dimension of each instance: 2224\n",
      "\n",
      " Validating using PHCA ...\n"
     ]
    },
    {
     "name": "stderr",
     "output_type": "stream",
     "text": [
      "100%|██████████| 1221/1221 [31:16<00:00,  1.54s/it]\n"
     ]
    },
    {
     "name": "stdout",
     "output_type": "stream",
     "text": [
      " Validation complete. \n",
      " Validation score: 0.9602 \n",
      "\n",
      "\n",
      "\n",
      " Fold 4 ------------\n",
      "\n",
      " Extracting features using HOG ...\n",
      " Features extracted. \n",
      " Dimension of each instance: 108900\n",
      "\n",
      " Reducing dimensions using PCA ...\n",
      " Dimension reduced. \n",
      " Dimension of each instance: 2236\n",
      "\n",
      " Scaling the data ...\n",
      " Data normalized. \n",
      " Final dimension of each instance: 2236\n",
      "\n",
      " Validating using PHCA ...\n"
     ]
    },
    {
     "name": "stderr",
     "output_type": "stream",
     "text": [
      "100%|██████████| 1221/1221 [31:15<00:00,  1.54s/it]\n"
     ]
    },
    {
     "name": "stdout",
     "output_type": "stream",
     "text": [
      " Validation complete. \n",
      " Validation score: 0.9557 \n",
      "\n",
      "\n",
      "\n",
      " Fold 5 ------------\n",
      "\n",
      " Extracting features using HOG ...\n",
      " Features extracted. \n",
      " Dimension of each instance: 108900\n",
      "\n",
      " Reducing dimensions using PCA ...\n",
      " Dimension reduced. \n",
      " Dimension of each instance: 2220\n",
      "\n",
      " Scaling the data ...\n",
      " Data normalized. \n",
      " Final dimension of each instance: 2220\n",
      "\n",
      " Validating using PHCA ...\n"
     ]
    },
    {
     "name": "stderr",
     "output_type": "stream",
     "text": [
      "100%|██████████| 1221/1221 [31:34<00:00,  1.55s/it]\n"
     ]
    },
    {
     "name": "stdout",
     "output_type": "stream",
     "text": [
      " Validation complete. \n",
      " Validation score: 0.9434 \n",
      "\n",
      "\n",
      "======= Running parameter combination 4 =======\n",
      "HOG: pixels_per_cell = (4, 4), cells_per_block: (3, 3)\n",
      "Scaler: StandardScaler()\n",
      "\n",
      " Fold 1 ------------\n",
      "\n",
      " Extracting features using HOG ...\n",
      " Features extracted. \n",
      " Dimension of each instance: 236196\n",
      "\n",
      " Reducing dimensions using PCA ...\n",
      " Dimension reduced. \n",
      " Dimension of each instance: 2206\n",
      "\n",
      " Scaling the data ...\n",
      " Data normalized. \n",
      " Final dimension of each instance: 2206\n",
      "\n",
      " Validating using PHCA ...\n"
     ]
    },
    {
     "name": "stderr",
     "output_type": "stream",
     "text": [
      "100%|██████████| 1221/1221 [31:30<00:00,  1.55s/it]\n"
     ]
    },
    {
     "name": "stdout",
     "output_type": "stream",
     "text": [
      " Validation complete. \n",
      " Validation score: 0.9582 \n",
      "\n",
      "\n",
      "\n",
      " Fold 2 ------------\n",
      "\n",
      " Extracting features using HOG ...\n",
      " Features extracted. \n",
      " Dimension of each instance: 236196\n",
      "\n",
      " Reducing dimensions using PCA ...\n",
      " Dimension reduced. \n",
      " Dimension of each instance: 2193\n",
      "\n",
      " Scaling the data ...\n",
      " Data normalized. \n",
      " Final dimension of each instance: 2193\n",
      "\n",
      " Validating using PHCA ...\n"
     ]
    },
    {
     "name": "stderr",
     "output_type": "stream",
     "text": [
      "100%|██████████| 1221/1221 [31:43<00:00,  1.56s/it]\n"
     ]
    },
    {
     "name": "stdout",
     "output_type": "stream",
     "text": [
      " Validation complete. \n",
      " Validation score: 0.9538 \n",
      "\n",
      "\n",
      "\n",
      " Fold 3 ------------\n",
      "\n",
      " Extracting features using HOG ...\n",
      " Features extracted. \n",
      " Dimension of each instance: 236196\n",
      "\n",
      " Reducing dimensions using PCA ...\n",
      " Dimension reduced. \n",
      " Dimension of each instance: 2205\n",
      "\n",
      " Scaling the data ...\n",
      " Data normalized. \n",
      " Final dimension of each instance: 2205\n",
      "\n",
      " Validating using PHCA ...\n"
     ]
    },
    {
     "name": "stderr",
     "output_type": "stream",
     "text": [
      "100%|██████████| 1221/1221 [31:25<00:00,  1.54s/it]\n"
     ]
    },
    {
     "name": "stdout",
     "output_type": "stream",
     "text": [
      " Validation complete. \n",
      " Validation score: 0.9607 \n",
      "\n",
      "\n",
      "\n",
      " Fold 4 ------------\n",
      "\n",
      " Extracting features using HOG ...\n",
      " Features extracted. \n",
      " Dimension of each instance: 236196\n",
      "\n",
      " Reducing dimensions using PCA ...\n",
      " Dimension reduced. \n",
      " Dimension of each instance: 2217\n",
      "\n",
      " Scaling the data ...\n",
      " Data normalized. \n",
      " Final dimension of each instance: 2217\n",
      "\n",
      " Validating using PHCA ...\n"
     ]
    },
    {
     "name": "stderr",
     "output_type": "stream",
     "text": [
      "100%|██████████| 1221/1221 [31:29<00:00,  1.55s/it]\n"
     ]
    },
    {
     "name": "stdout",
     "output_type": "stream",
     "text": [
      " Validation complete. \n",
      " Validation score: 0.9623 \n",
      "\n",
      "\n",
      "\n",
      " Fold 5 ------------\n",
      "\n",
      " Extracting features using HOG ...\n",
      " Features extracted. \n",
      " Dimension of each instance: 236196\n",
      "\n",
      " Reducing dimensions using PCA ...\n",
      " Dimension reduced. \n",
      " Dimension of each instance: 2200\n",
      "\n",
      " Scaling the data ...\n",
      " Data normalized. \n",
      " Final dimension of each instance: 2200\n",
      "\n",
      " Validating using PHCA ...\n"
     ]
    },
    {
     "name": "stderr",
     "output_type": "stream",
     "text": [
      "100%|██████████| 1221/1221 [31:42<00:00,  1.56s/it]\n"
     ]
    },
    {
     "name": "stdout",
     "output_type": "stream",
     "text": [
      " Validation complete. \n",
      " Validation score: 0.9519 \n",
      "\n",
      "\n",
      "======= Running parameter combination 5 =======\n",
      "HOG: pixels_per_cell = (4, 4), cells_per_block: (3, 3)\n",
      "Scaler: MinMaxScaler()\n",
      "\n",
      " Fold 1 ------------\n",
      "\n",
      " Extracting features using HOG ...\n",
      " Features extracted. \n",
      " Dimension of each instance: 236196\n",
      "\n",
      " Reducing dimensions using PCA ...\n",
      " Dimension reduced. \n",
      " Dimension of each instance: 2206\n",
      "\n",
      " Scaling the data ...\n",
      " Data normalized. \n",
      " Final dimension of each instance: 2206\n",
      "\n",
      " Validating using PHCA ...\n"
     ]
    },
    {
     "name": "stderr",
     "output_type": "stream",
     "text": [
      "100%|██████████| 1221/1221 [33:07<00:00,  1.63s/it]\n"
     ]
    },
    {
     "name": "stdout",
     "output_type": "stream",
     "text": [
      " Validation complete. \n",
      " Validation score: 0.9583 \n",
      "\n",
      "\n",
      "\n",
      " Fold 2 ------------\n",
      "\n",
      " Extracting features using HOG ...\n",
      " Features extracted. \n",
      " Dimension of each instance: 236196\n",
      "\n",
      " Reducing dimensions using PCA ...\n",
      " Dimension reduced. \n",
      " Dimension of each instance: 2193\n",
      "\n",
      " Scaling the data ...\n",
      " Data normalized. \n",
      " Final dimension of each instance: 2193\n",
      "\n",
      " Validating using PHCA ...\n"
     ]
    },
    {
     "name": "stderr",
     "output_type": "stream",
     "text": [
      "100%|██████████| 1221/1221 [33:17<00:00,  1.64s/it]\n"
     ]
    },
    {
     "name": "stdout",
     "output_type": "stream",
     "text": [
      " Validation complete. \n",
      " Validation score: 0.9473 \n",
      "\n",
      "\n",
      "\n",
      " Fold 3 ------------\n",
      "\n",
      " Extracting features using HOG ...\n",
      " Features extracted. \n",
      " Dimension of each instance: 236196\n",
      "\n",
      " Reducing dimensions using PCA ...\n",
      " Dimension reduced. \n",
      " Dimension of each instance: 2205\n",
      "\n",
      " Scaling the data ...\n",
      " Data normalized. \n",
      " Final dimension of each instance: 2205\n",
      "\n",
      " Validating using PHCA ...\n"
     ]
    },
    {
     "name": "stderr",
     "output_type": "stream",
     "text": [
      "100%|██████████| 1221/1221 [32:45<00:00,  1.61s/it]\n"
     ]
    },
    {
     "name": "stdout",
     "output_type": "stream",
     "text": [
      " Validation complete. \n",
      " Validation score: 0.9572 \n",
      "\n",
      "\n",
      "\n",
      " Fold 4 ------------\n",
      "\n",
      " Extracting features using HOG ...\n",
      " Features extracted. \n",
      " Dimension of each instance: 236196\n",
      "\n",
      " Reducing dimensions using PCA ...\n",
      " Dimension reduced. \n",
      " Dimension of each instance: 2217\n",
      "\n",
      " Scaling the data ...\n",
      " Data normalized. \n",
      " Final dimension of each instance: 2217\n",
      "\n",
      " Validating using PHCA ...\n"
     ]
    },
    {
     "name": "stderr",
     "output_type": "stream",
     "text": [
      "100%|██████████| 1221/1221 [32:29<00:00,  1.60s/it]\n"
     ]
    },
    {
     "name": "stdout",
     "output_type": "stream",
     "text": [
      " Validation complete. \n",
      " Validation score: 0.9604 \n",
      "\n",
      "\n",
      "\n",
      " Fold 5 ------------\n",
      "\n",
      " Extracting features using HOG ...\n",
      " Features extracted. \n",
      " Dimension of each instance: 236196\n",
      "\n",
      " Reducing dimensions using PCA ...\n",
      " Dimension reduced. \n",
      " Dimension of each instance: 2200\n",
      "\n",
      " Scaling the data ...\n",
      " Data normalized. \n",
      " Final dimension of each instance: 2200\n",
      "\n",
      " Validating using PHCA ...\n"
     ]
    },
    {
     "name": "stderr",
     "output_type": "stream",
     "text": [
      "100%|██████████| 1221/1221 [33:33<00:00,  1.65s/it]\n"
     ]
    },
    {
     "name": "stdout",
     "output_type": "stream",
     "text": [
      " Validation complete. \n",
      " Validation score: 0.9466 \n",
      "\n",
      "\n",
      "======= Running parameter combination 6 =======\n",
      "HOG: pixels_per_cell = (4, 4), cells_per_block: (3, 3)\n",
      "Scaler: RobustScaler()\n",
      "\n",
      " Fold 1 ------------\n",
      "\n",
      " Extracting features using HOG ...\n",
      " Features extracted. \n",
      " Dimension of each instance: 236196\n",
      "\n",
      " Reducing dimensions using PCA ...\n",
      " Dimension reduced. \n",
      " Dimension of each instance: 2206\n",
      "\n",
      " Scaling the data ...\n",
      " Data normalized. \n",
      " Final dimension of each instance: 2206\n",
      "\n",
      " Validating using PHCA ...\n"
     ]
    },
    {
     "name": "stderr",
     "output_type": "stream",
     "text": [
      "100%|██████████| 1221/1221 [31:23<00:00,  1.54s/it]\n"
     ]
    },
    {
     "name": "stdout",
     "output_type": "stream",
     "text": [
      " Validation complete. \n",
      " Validation score: 0.9485 \n",
      "\n",
      "\n",
      "\n",
      " Fold 2 ------------\n",
      "\n",
      " Extracting features using HOG ...\n",
      " Features extracted. \n",
      " Dimension of each instance: 236196\n",
      "\n",
      " Reducing dimensions using PCA ...\n",
      " Dimension reduced. \n",
      " Dimension of each instance: 2193\n",
      "\n",
      " Scaling the data ...\n",
      " Data normalized. \n",
      " Final dimension of each instance: 2193\n",
      "\n",
      " Validating using PHCA ...\n"
     ]
    },
    {
     "name": "stderr",
     "output_type": "stream",
     "text": [
      "100%|██████████| 1221/1221 [31:43<00:00,  1.56s/it]\n"
     ]
    },
    {
     "name": "stdout",
     "output_type": "stream",
     "text": [
      " Validation complete. \n",
      " Validation score: 0.9533 \n",
      "\n",
      "\n",
      "\n",
      " Fold 3 ------------\n",
      "\n",
      " Extracting features using HOG ...\n",
      " Features extracted. \n",
      " Dimension of each instance: 236196\n",
      "\n",
      " Reducing dimensions using PCA ...\n",
      " Dimension reduced. \n",
      " Dimension of each instance: 2205\n",
      "\n",
      " Scaling the data ...\n",
      " Data normalized. \n",
      " Final dimension of each instance: 2205\n",
      "\n",
      " Validating using PHCA ...\n"
     ]
    },
    {
     "name": "stderr",
     "output_type": "stream",
     "text": [
      "100%|██████████| 1221/1221 [31:23<00:00,  1.54s/it]\n"
     ]
    },
    {
     "name": "stdout",
     "output_type": "stream",
     "text": [
      " Validation complete. \n",
      " Validation score: 0.9582 \n",
      "\n",
      "\n",
      "\n",
      " Fold 4 ------------\n",
      "\n",
      " Extracting features using HOG ...\n",
      " Features extracted. \n",
      " Dimension of each instance: 236196\n",
      "\n",
      " Reducing dimensions using PCA ...\n",
      " Dimension reduced. \n",
      " Dimension of each instance: 2217\n",
      "\n",
      " Scaling the data ...\n",
      " Data normalized. \n",
      " Final dimension of each instance: 2217\n",
      "\n",
      " Validating using PHCA ...\n"
     ]
    },
    {
     "name": "stderr",
     "output_type": "stream",
     "text": [
      "100%|██████████| 1221/1221 [31:22<00:00,  1.54s/it]\n"
     ]
    },
    {
     "name": "stdout",
     "output_type": "stream",
     "text": [
      " Validation complete. \n",
      " Validation score: 0.9557 \n",
      "\n",
      "\n",
      "\n",
      " Fold 5 ------------\n",
      "\n",
      " Extracting features using HOG ...\n",
      " Features extracted. \n",
      " Dimension of each instance: 236196\n",
      "\n",
      " Reducing dimensions using PCA ...\n",
      " Dimension reduced. \n",
      " Dimension of each instance: 2200\n",
      "\n",
      " Scaling the data ...\n",
      " Data normalized. \n",
      " Final dimension of each instance: 2200\n",
      "\n",
      " Validating using PHCA ...\n"
     ]
    },
    {
     "name": "stderr",
     "output_type": "stream",
     "text": [
      "100%|██████████| 1221/1221 [31:40<00:00,  1.56s/it]\n"
     ]
    },
    {
     "name": "stdout",
     "output_type": "stream",
     "text": [
      " Validation complete. \n",
      " Validation score: 0.9441 \n",
      "\n",
      "\n",
      "======= Running parameter combination 7 =======\n",
      "HOG: pixels_per_cell = (8, 8), cells_per_block: (2, 2)\n",
      "Scaler: StandardScaler()\n",
      "\n",
      " Fold 1 ------------\n",
      "\n",
      " Extracting features using HOG ...\n",
      " Features extracted. \n",
      " Dimension of each instance: 26244\n",
      "\n",
      " Reducing dimensions using PCA ...\n",
      " Dimension reduced. \n",
      " Dimension of each instance: 1448\n",
      "\n",
      " Scaling the data ...\n",
      " Data normalized. \n",
      " Final dimension of each instance: 1448\n",
      "\n",
      " Validating using PHCA ...\n"
     ]
    },
    {
     "name": "stderr",
     "output_type": "stream",
     "text": [
      "100%|██████████| 1221/1221 [35:13<00:00,  1.73s/it]\n"
     ]
    },
    {
     "name": "stdout",
     "output_type": "stream",
     "text": [
      " Validation complete. \n",
      " Validation score: 0.9043 \n",
      "\n",
      "\n",
      "\n",
      " Fold 2 ------------\n",
      "\n",
      " Extracting features using HOG ...\n",
      " Features extracted. \n",
      " Dimension of each instance: 26244\n",
      "\n",
      " Reducing dimensions using PCA ...\n",
      " Dimension reduced. \n",
      " Dimension of each instance: 1440\n",
      "\n",
      " Scaling the data ...\n",
      " Data normalized. \n",
      " Final dimension of each instance: 1440\n",
      "\n",
      " Validating using PHCA ...\n"
     ]
    },
    {
     "name": "stderr",
     "output_type": "stream",
     "text": [
      "100%|██████████| 1221/1221 [35:05<00:00,  1.72s/it]\n"
     ]
    },
    {
     "name": "stdout",
     "output_type": "stream",
     "text": [
      " Validation complete. \n",
      " Validation score: 0.8942 \n",
      "\n",
      "\n",
      "\n",
      " Fold 3 ------------\n",
      "\n",
      " Extracting features using HOG ...\n",
      " Features extracted. \n",
      " Dimension of each instance: 26244\n",
      "\n",
      " Reducing dimensions using PCA ...\n",
      " Dimension reduced. \n",
      " Dimension of each instance: 1447\n",
      "\n",
      " Scaling the data ...\n",
      " Data normalized. \n",
      " Final dimension of each instance: 1447\n",
      "\n",
      " Validating using PHCA ...\n"
     ]
    },
    {
     "name": "stderr",
     "output_type": "stream",
     "text": [
      "100%|██████████| 1221/1221 [35:01<00:00,  1.72s/it]\n"
     ]
    },
    {
     "name": "stdout",
     "output_type": "stream",
     "text": [
      " Validation complete. \n",
      " Validation score: 0.9057 \n",
      "\n",
      "\n",
      "\n",
      " Fold 4 ------------\n",
      "\n",
      " Extracting features using HOG ...\n",
      " Features extracted. \n",
      " Dimension of each instance: 26244\n",
      "\n",
      " Reducing dimensions using PCA ...\n",
      " Dimension reduced. \n",
      " Dimension of each instance: 1451\n",
      "\n",
      " Scaling the data ...\n",
      " Data normalized. \n",
      " Final dimension of each instance: 1451\n",
      "\n",
      " Validating using PHCA ...\n"
     ]
    },
    {
     "name": "stderr",
     "output_type": "stream",
     "text": [
      "100%|██████████| 1221/1221 [35:00<00:00,  1.72s/it]\n"
     ]
    },
    {
     "name": "stdout",
     "output_type": "stream",
     "text": [
      " Validation complete. \n",
      " Validation score: 0.9156 \n",
      "\n",
      "\n",
      "\n",
      " Fold 5 ------------\n",
      "\n",
      " Extracting features using HOG ...\n",
      " Features extracted. \n",
      " Dimension of each instance: 26244\n",
      "\n",
      " Reducing dimensions using PCA ...\n",
      " Dimension reduced. \n",
      " Dimension of each instance: 1445\n",
      "\n",
      " Scaling the data ...\n",
      " Data normalized. \n",
      " Final dimension of each instance: 1445\n",
      "\n",
      " Validating using PHCA ...\n"
     ]
    },
    {
     "name": "stderr",
     "output_type": "stream",
     "text": [
      "100%|██████████| 1221/1221 [34:52<00:00,  1.71s/it]\n"
     ]
    },
    {
     "name": "stdout",
     "output_type": "stream",
     "text": [
      " Validation complete. \n",
      " Validation score: 0.9091 \n",
      "\n",
      "\n",
      "======= Running parameter combination 8 =======\n",
      "HOG: pixels_per_cell = (8, 8), cells_per_block: (2, 2)\n",
      "Scaler: MinMaxScaler()\n",
      "\n",
      " Fold 1 ------------\n",
      "\n",
      " Extracting features using HOG ...\n",
      " Features extracted. \n",
      " Dimension of each instance: 26244\n",
      "\n",
      " Reducing dimensions using PCA ...\n",
      " Dimension reduced. \n",
      " Dimension of each instance: 1448\n",
      "\n",
      " Scaling the data ...\n",
      " Data normalized. \n",
      " Final dimension of each instance: 1448\n",
      "\n",
      " Validating using PHCA ...\n"
     ]
    },
    {
     "name": "stderr",
     "output_type": "stream",
     "text": [
      "100%|██████████| 1221/1221 [35:08<00:00,  1.73s/it]\n"
     ]
    },
    {
     "name": "stdout",
     "output_type": "stream",
     "text": [
      " Validation complete. \n",
      " Validation score: 0.9159 \n",
      "\n",
      "\n",
      "\n",
      " Fold 2 ------------\n",
      "\n",
      " Extracting features using HOG ...\n",
      " Features extracted. \n",
      " Dimension of each instance: 26244\n",
      "\n",
      " Reducing dimensions using PCA ...\n",
      " Dimension reduced. \n",
      " Dimension of each instance: 1440\n",
      "\n",
      " Scaling the data ...\n",
      " Data normalized. \n",
      " Final dimension of each instance: 1440\n",
      "\n",
      " Validating using PHCA ...\n"
     ]
    },
    {
     "name": "stderr",
     "output_type": "stream",
     "text": [
      "100%|██████████| 1221/1221 [34:54<00:00,  1.72s/it]\n"
     ]
    },
    {
     "name": "stdout",
     "output_type": "stream",
     "text": [
      " Validation complete. \n",
      " Validation score: 0.8964 \n",
      "\n",
      "\n",
      "\n",
      " Fold 3 ------------\n",
      "\n",
      " Extracting features using HOG ...\n",
      " Features extracted. \n",
      " Dimension of each instance: 26244\n",
      "\n",
      " Reducing dimensions using PCA ...\n",
      " Dimension reduced. \n",
      " Dimension of each instance: 1447\n",
      "\n",
      " Scaling the data ...\n",
      " Data normalized. \n",
      " Final dimension of each instance: 1447\n",
      "\n",
      " Validating using PHCA ...\n"
     ]
    },
    {
     "name": "stderr",
     "output_type": "stream",
     "text": [
      "100%|██████████| 1221/1221 [34:59<00:00,  1.72s/it]\n"
     ]
    },
    {
     "name": "stdout",
     "output_type": "stream",
     "text": [
      " Validation complete. \n",
      " Validation score: 0.9064 \n",
      "\n",
      "\n",
      "\n",
      " Fold 4 ------------\n",
      "\n",
      " Extracting features using HOG ...\n",
      " Features extracted. \n",
      " Dimension of each instance: 26244\n",
      "\n",
      " Reducing dimensions using PCA ...\n",
      " Dimension reduced. \n",
      " Dimension of each instance: 1451\n",
      "\n",
      " Scaling the data ...\n",
      " Data normalized. \n",
      " Final dimension of each instance: 1451\n",
      "\n",
      " Validating using PHCA ...\n"
     ]
    },
    {
     "name": "stderr",
     "output_type": "stream",
     "text": [
      "100%|██████████| 1221/1221 [34:51<00:00,  1.71s/it]\n"
     ]
    },
    {
     "name": "stdout",
     "output_type": "stream",
     "text": [
      " Validation complete. \n",
      " Validation score: 0.9144 \n",
      "\n",
      "\n",
      "\n",
      " Fold 5 ------------\n",
      "\n",
      " Extracting features using HOG ...\n",
      " Features extracted. \n",
      " Dimension of each instance: 26244\n",
      "\n",
      " Reducing dimensions using PCA ...\n",
      " Dimension reduced. \n",
      " Dimension of each instance: 1445\n",
      "\n",
      " Scaling the data ...\n",
      " Data normalized. \n",
      " Final dimension of each instance: 1445\n",
      "\n",
      " Validating using PHCA ...\n"
     ]
    },
    {
     "name": "stderr",
     "output_type": "stream",
     "text": [
      "100%|██████████| 1221/1221 [34:39<00:00,  1.70s/it]\n"
     ]
    },
    {
     "name": "stdout",
     "output_type": "stream",
     "text": [
      " Validation complete. \n",
      " Validation score: 0.9213 \n",
      "\n",
      "\n",
      "======= Running parameter combination 9 =======\n",
      "HOG: pixels_per_cell = (8, 8), cells_per_block: (2, 2)\n",
      "Scaler: RobustScaler()\n",
      "\n",
      " Fold 1 ------------\n",
      "\n",
      " Extracting features using HOG ...\n",
      " Features extracted. \n",
      " Dimension of each instance: 26244\n",
      "\n",
      " Reducing dimensions using PCA ...\n",
      " Dimension reduced. \n",
      " Dimension of each instance: 1448\n",
      "\n",
      " Scaling the data ...\n",
      " Data normalized. \n",
      " Final dimension of each instance: 1448\n",
      "\n",
      " Validating using PHCA ...\n"
     ]
    },
    {
     "name": "stderr",
     "output_type": "stream",
     "text": [
      "100%|██████████| 1221/1221 [35:16<00:00,  1.73s/it]\n"
     ]
    },
    {
     "name": "stdout",
     "output_type": "stream",
     "text": [
      " Validation complete. \n",
      " Validation score: 0.9037 \n",
      "\n",
      "\n",
      "\n",
      " Fold 2 ------------\n",
      "\n",
      " Extracting features using HOG ...\n",
      " Features extracted. \n",
      " Dimension of each instance: 26244\n",
      "\n",
      " Reducing dimensions using PCA ...\n",
      " Dimension reduced. \n",
      " Dimension of each instance: 1440\n",
      "\n",
      " Scaling the data ...\n",
      " Data normalized. \n",
      " Final dimension of each instance: 1440\n",
      "\n",
      " Validating using PHCA ...\n"
     ]
    },
    {
     "name": "stderr",
     "output_type": "stream",
     "text": [
      "100%|██████████| 1221/1221 [35:12<00:00,  1.73s/it]\n"
     ]
    },
    {
     "name": "stdout",
     "output_type": "stream",
     "text": [
      " Validation complete. \n",
      " Validation score: 0.8947 \n",
      "\n",
      "\n",
      "\n",
      " Fold 3 ------------\n",
      "\n",
      " Extracting features using HOG ...\n",
      " Features extracted. \n",
      " Dimension of each instance: 26244\n",
      "\n",
      " Reducing dimensions using PCA ...\n",
      " Dimension reduced. \n",
      " Dimension of each instance: 1447\n",
      "\n",
      " Scaling the data ...\n",
      " Data normalized. \n",
      " Final dimension of each instance: 1447\n",
      "\n",
      " Validating using PHCA ...\n"
     ]
    },
    {
     "name": "stderr",
     "output_type": "stream",
     "text": [
      "100%|██████████| 1221/1221 [35:03<00:00,  1.72s/it]\n"
     ]
    },
    {
     "name": "stdout",
     "output_type": "stream",
     "text": [
      " Validation complete. \n",
      " Validation score: 0.9070 \n",
      "\n",
      "\n",
      "\n",
      " Fold 4 ------------\n",
      "\n",
      " Extracting features using HOG ...\n",
      " Features extracted. \n",
      " Dimension of each instance: 26244\n",
      "\n",
      " Reducing dimensions using PCA ...\n",
      " Dimension reduced. \n",
      " Dimension of each instance: 1451\n",
      "\n",
      " Scaling the data ...\n",
      " Data normalized. \n",
      " Final dimension of each instance: 1451\n",
      "\n",
      " Validating using PHCA ...\n"
     ]
    },
    {
     "name": "stderr",
     "output_type": "stream",
     "text": [
      "100%|██████████| 1221/1221 [35:00<00:00,  1.72s/it]\n"
     ]
    },
    {
     "name": "stdout",
     "output_type": "stream",
     "text": [
      " Validation complete. \n",
      " Validation score: 0.9182 \n",
      "\n",
      "\n",
      "\n",
      " Fold 5 ------------\n",
      "\n",
      " Extracting features using HOG ...\n",
      " Features extracted. \n",
      " Dimension of each instance: 26244\n",
      "\n",
      " Reducing dimensions using PCA ...\n",
      " Dimension reduced. \n",
      " Dimension of each instance: 1445\n",
      "\n",
      " Scaling the data ...\n",
      " Data normalized. \n",
      " Final dimension of each instance: 1445\n",
      "\n",
      " Validating using PHCA ...\n"
     ]
    },
    {
     "name": "stderr",
     "output_type": "stream",
     "text": [
      "100%|██████████| 1221/1221 [34:54<00:00,  1.72s/it]\n"
     ]
    },
    {
     "name": "stdout",
     "output_type": "stream",
     "text": [
      " Validation complete. \n",
      " Validation score: 0.9105 \n",
      "\n",
      "\n",
      "======= Running parameter combination 10 =======\n",
      "HOG: pixels_per_cell = (8, 8), cells_per_block: (3, 3)\n",
      "Scaler: StandardScaler()\n",
      "\n",
      " Fold 1 ------------\n",
      "\n",
      " Extracting features using HOG ...\n",
      " Features extracted. \n",
      " Dimension of each instance: 54756\n",
      "\n",
      " Reducing dimensions using PCA ...\n",
      " Dimension reduced. \n",
      " Dimension of each instance: 1505\n",
      "\n",
      " Scaling the data ...\n",
      " Data normalized. \n",
      " Final dimension of each instance: 1505\n",
      "\n",
      " Validating using PHCA ...\n"
     ]
    },
    {
     "name": "stderr",
     "output_type": "stream",
     "text": [
      "100%|██████████| 1221/1221 [35:23<00:00,  1.74s/it]\n"
     ]
    },
    {
     "name": "stdout",
     "output_type": "stream",
     "text": [
      " Validation complete. \n",
      " Validation score: 0.9091 \n",
      "\n",
      "\n",
      "\n",
      " Fold 2 ------------\n",
      "\n",
      " Extracting features using HOG ...\n",
      " Features extracted. \n",
      " Dimension of each instance: 54756\n",
      "\n",
      " Reducing dimensions using PCA ...\n",
      " Dimension reduced. \n",
      " Dimension of each instance: 1497\n",
      "\n",
      " Scaling the data ...\n",
      " Data normalized. \n",
      " Final dimension of each instance: 1497\n",
      "\n",
      " Validating using PHCA ...\n"
     ]
    },
    {
     "name": "stderr",
     "output_type": "stream",
     "text": [
      "100%|██████████| 1221/1221 [35:04<00:00,  1.72s/it]\n"
     ]
    },
    {
     "name": "stdout",
     "output_type": "stream",
     "text": [
      " Validation complete. \n",
      " Validation score: 0.8931 \n",
      "\n",
      "\n",
      "\n",
      " Fold 3 ------------\n",
      "\n",
      " Extracting features using HOG ...\n",
      " Features extracted. \n",
      " Dimension of each instance: 54756\n",
      "\n",
      " Reducing dimensions using PCA ...\n",
      " Dimension reduced. \n",
      " Dimension of each instance: 1504\n",
      "\n",
      " Scaling the data ...\n",
      " Data normalized. \n",
      " Final dimension of each instance: 1504\n",
      "\n",
      " Validating using PHCA ...\n"
     ]
    },
    {
     "name": "stderr",
     "output_type": "stream",
     "text": [
      "100%|██████████| 1221/1221 [35:11<00:00,  1.73s/it]\n"
     ]
    },
    {
     "name": "stdout",
     "output_type": "stream",
     "text": [
      " Validation complete. \n",
      " Validation score: 0.9058 \n",
      "\n",
      "\n",
      "\n",
      " Fold 4 ------------\n",
      "\n",
      " Extracting features using HOG ...\n",
      " Features extracted. \n",
      " Dimension of each instance: 54756\n",
      "\n",
      " Reducing dimensions using PCA ...\n",
      " Dimension reduced. \n",
      " Dimension of each instance: 1509\n",
      "\n",
      " Scaling the data ...\n",
      " Data normalized. \n",
      " Final dimension of each instance: 1509\n",
      "\n",
      " Validating using PHCA ...\n"
     ]
    },
    {
     "name": "stderr",
     "output_type": "stream",
     "text": [
      "100%|██████████| 1221/1221 [35:18<00:00,  1.73s/it]\n"
     ]
    },
    {
     "name": "stdout",
     "output_type": "stream",
     "text": [
      " Validation complete. \n",
      " Validation score: 0.9152 \n",
      "\n",
      "\n",
      "\n",
      " Fold 5 ------------\n",
      "\n",
      " Extracting features using HOG ...\n",
      " Features extracted. \n",
      " Dimension of each instance: 54756\n",
      "\n",
      " Reducing dimensions using PCA ...\n",
      " Dimension reduced. \n",
      " Dimension of each instance: 1501\n",
      "\n",
      " Scaling the data ...\n",
      " Data normalized. \n",
      " Final dimension of each instance: 1501\n",
      "\n",
      " Validating using PHCA ...\n"
     ]
    },
    {
     "name": "stderr",
     "output_type": "stream",
     "text": [
      "100%|██████████| 1221/1221 [35:11<00:00,  1.73s/it]\n"
     ]
    },
    {
     "name": "stdout",
     "output_type": "stream",
     "text": [
      " Validation complete. \n",
      " Validation score: 0.9111 \n",
      "\n",
      "\n",
      "======= Running parameter combination 11 =======\n",
      "HOG: pixels_per_cell = (8, 8), cells_per_block: (3, 3)\n",
      "Scaler: MinMaxScaler()\n",
      "\n",
      " Fold 1 ------------\n",
      "\n",
      " Extracting features using HOG ...\n",
      " Features extracted. \n",
      " Dimension of each instance: 54756\n",
      "\n",
      " Reducing dimensions using PCA ...\n",
      " Dimension reduced. \n",
      " Dimension of each instance: 1505\n",
      "\n",
      " Scaling the data ...\n",
      " Data normalized. \n",
      " Final dimension of each instance: 1505\n",
      "\n",
      " Validating using PHCA ...\n"
     ]
    },
    {
     "name": "stderr",
     "output_type": "stream",
     "text": [
      "100%|██████████| 1221/1221 [35:10<00:00,  1.73s/it]\n"
     ]
    },
    {
     "name": "stdout",
     "output_type": "stream",
     "text": [
      " Validation complete. \n",
      " Validation score: 0.9195 \n",
      "\n",
      "\n",
      "\n",
      " Fold 2 ------------\n",
      "\n",
      " Extracting features using HOG ...\n",
      " Features extracted. \n",
      " Dimension of each instance: 54756\n",
      "\n",
      " Reducing dimensions using PCA ...\n",
      " Dimension reduced. \n",
      " Dimension of each instance: 1497\n",
      "\n",
      " Scaling the data ...\n",
      " Data normalized. \n",
      " Final dimension of each instance: 1497\n",
      "\n",
      " Validating using PHCA ...\n"
     ]
    },
    {
     "name": "stderr",
     "output_type": "stream",
     "text": [
      "100%|██████████| 1221/1221 [34:30<00:00,  1.70s/it]\n"
     ]
    },
    {
     "name": "stdout",
     "output_type": "stream",
     "text": [
      " Validation complete. \n",
      " Validation score: 0.8953 \n",
      "\n",
      "\n",
      "\n",
      " Fold 3 ------------\n",
      "\n",
      " Extracting features using HOG ...\n",
      " Features extracted. \n",
      " Dimension of each instance: 54756\n",
      "\n",
      " Reducing dimensions using PCA ...\n",
      " Dimension reduced. \n",
      " Dimension of each instance: 1504\n",
      "\n",
      " Scaling the data ...\n",
      " Data normalized. \n",
      " Final dimension of each instance: 1504\n",
      "\n",
      " Validating using PHCA ...\n"
     ]
    },
    {
     "name": "stderr",
     "output_type": "stream",
     "text": [
      "100%|██████████| 1221/1221 [35:04<00:00,  1.72s/it]\n"
     ]
    },
    {
     "name": "stdout",
     "output_type": "stream",
     "text": [
      " Validation complete. \n",
      " Validation score: 0.9068 \n",
      "\n",
      "\n",
      "\n",
      " Fold 4 ------------\n",
      "\n",
      " Extracting features using HOG ...\n",
      " Features extracted. \n",
      " Dimension of each instance: 54756\n",
      "\n",
      " Reducing dimensions using PCA ...\n",
      " Dimension reduced. \n",
      " Dimension of each instance: 1509\n",
      "\n",
      " Scaling the data ...\n",
      " Data normalized. \n",
      " Final dimension of each instance: 1509\n",
      "\n",
      " Validating using PHCA ...\n"
     ]
    },
    {
     "name": "stderr",
     "output_type": "stream",
     "text": [
      "100%|██████████| 1221/1221 [35:10<00:00,  1.73s/it]\n"
     ]
    },
    {
     "name": "stdout",
     "output_type": "stream",
     "text": [
      " Validation complete. \n",
      " Validation score: 0.9217 \n",
      "\n",
      "\n",
      "\n",
      " Fold 5 ------------\n",
      "\n",
      " Extracting features using HOG ...\n",
      " Features extracted. \n",
      " Dimension of each instance: 54756\n",
      "\n",
      " Reducing dimensions using PCA ...\n",
      " Dimension reduced. \n",
      " Dimension of each instance: 1501\n",
      "\n",
      " Scaling the data ...\n",
      " Data normalized. \n",
      " Final dimension of each instance: 1501\n",
      "\n",
      " Validating using PHCA ...\n"
     ]
    },
    {
     "name": "stderr",
     "output_type": "stream",
     "text": [
      "100%|██████████| 1221/1221 [34:27<00:00,  1.69s/it]\n"
     ]
    },
    {
     "name": "stdout",
     "output_type": "stream",
     "text": [
      " Validation complete. \n",
      " Validation score: 0.9119 \n",
      "\n",
      "\n",
      "======= Running parameter combination 12 =======\n",
      "HOG: pixels_per_cell = (8, 8), cells_per_block: (3, 3)\n",
      "Scaler: RobustScaler()\n",
      "\n",
      " Fold 1 ------------\n",
      "\n",
      " Extracting features using HOG ...\n",
      " Features extracted. \n",
      " Dimension of each instance: 54756\n",
      "\n",
      " Reducing dimensions using PCA ...\n",
      " Dimension reduced. \n",
      " Dimension of each instance: 1505\n",
      "\n",
      " Scaling the data ...\n",
      " Data normalized. \n",
      " Final dimension of each instance: 1505\n",
      "\n",
      " Validating using PHCA ...\n"
     ]
    },
    {
     "name": "stderr",
     "output_type": "stream",
     "text": [
      "100%|██████████| 1221/1221 [35:24<00:00,  1.74s/it]\n"
     ]
    },
    {
     "name": "stdout",
     "output_type": "stream",
     "text": [
      " Validation complete. \n",
      " Validation score: 0.9103 \n",
      "\n",
      "\n",
      "\n",
      " Fold 2 ------------\n",
      "\n",
      " Extracting features using HOG ...\n",
      " Features extracted. \n",
      " Dimension of each instance: 54756\n",
      "\n",
      " Reducing dimensions using PCA ...\n",
      " Dimension reduced. \n",
      " Dimension of each instance: 1497\n",
      "\n",
      " Scaling the data ...\n",
      " Data normalized. \n",
      " Final dimension of each instance: 1497\n",
      "\n",
      " Validating using PHCA ...\n"
     ]
    },
    {
     "name": "stderr",
     "output_type": "stream",
     "text": [
      "100%|██████████| 1221/1221 [35:02<00:00,  1.72s/it]\n"
     ]
    },
    {
     "name": "stdout",
     "output_type": "stream",
     "text": [
      " Validation complete. \n",
      " Validation score: 0.8949 \n",
      "\n",
      "\n",
      "\n",
      " Fold 3 ------------\n",
      "\n",
      " Extracting features using HOG ...\n",
      " Features extracted. \n",
      " Dimension of each instance: 54756\n",
      "\n",
      " Reducing dimensions using PCA ...\n",
      " Dimension reduced. \n",
      " Dimension of each instance: 1504\n",
      "\n",
      " Scaling the data ...\n",
      " Data normalized. \n",
      " Final dimension of each instance: 1504\n",
      "\n",
      " Validating using PHCA ...\n"
     ]
    },
    {
     "name": "stderr",
     "output_type": "stream",
     "text": [
      "100%|██████████| 1221/1221 [35:13<00:00,  1.73s/it]\n"
     ]
    },
    {
     "name": "stdout",
     "output_type": "stream",
     "text": [
      " Validation complete. \n",
      " Validation score: 0.9071 \n",
      "\n",
      "\n",
      "\n",
      " Fold 4 ------------\n",
      "\n",
      " Extracting features using HOG ...\n",
      " Features extracted. \n",
      " Dimension of each instance: 54756\n",
      "\n",
      " Reducing dimensions using PCA ...\n",
      " Dimension reduced. \n",
      " Dimension of each instance: 1509\n",
      "\n",
      " Scaling the data ...\n",
      " Data normalized. \n",
      " Final dimension of each instance: 1509\n",
      "\n",
      " Validating using PHCA ...\n"
     ]
    },
    {
     "name": "stderr",
     "output_type": "stream",
     "text": [
      "100%|██████████| 1221/1221 [35:20<00:00,  1.74s/it]\n"
     ]
    },
    {
     "name": "stdout",
     "output_type": "stream",
     "text": [
      " Validation complete. \n",
      " Validation score: 0.9166 \n",
      "\n",
      "\n",
      "\n",
      " Fold 5 ------------\n",
      "\n",
      " Extracting features using HOG ...\n",
      " Features extracted. \n",
      " Dimension of each instance: 54756\n",
      "\n",
      " Reducing dimensions using PCA ...\n",
      " Dimension reduced. \n",
      " Dimension of each instance: 1501\n",
      "\n",
      " Scaling the data ...\n",
      " Data normalized. \n",
      " Final dimension of each instance: 1501\n",
      "\n",
      " Validating using PHCA ...\n"
     ]
    },
    {
     "name": "stderr",
     "output_type": "stream",
     "text": [
      "100%|██████████| 1221/1221 [35:08<00:00,  1.73s/it]\n"
     ]
    },
    {
     "name": "stdout",
     "output_type": "stream",
     "text": [
      " Validation complete. \n",
      " Validation score: 0.9089 \n",
      "\n",
      "\n",
      "======= Running parameter combination 13 =======\n",
      "HOG: pixels_per_cell = (16, 16), cells_per_block: (2, 2)\n",
      "Scaler: StandardScaler()\n",
      "\n",
      " Fold 1 ------------\n",
      "\n",
      " Extracting features using HOG ...\n",
      " Features extracted. \n",
      " Dimension of each instance: 6084\n",
      "\n",
      " Reducing dimensions using PCA ...\n",
      " Dimension reduced. \n",
      " Dimension of each instance: 683\n",
      "\n",
      " Scaling the data ...\n",
      " Data normalized. \n",
      " Final dimension of each instance: 683\n",
      "\n",
      " Validating using PHCA ...\n"
     ]
    },
    {
     "name": "stderr",
     "output_type": "stream",
     "text": [
      "100%|██████████| 1221/1221 [32:06<00:00,  1.58s/it]\n"
     ]
    },
    {
     "name": "stdout",
     "output_type": "stream",
     "text": [
      " Validation complete. \n",
      " Validation score: 0.9520 \n",
      "\n",
      "\n",
      "\n",
      " Fold 2 ------------\n",
      "\n",
      " Extracting features using HOG ...\n",
      " Features extracted. \n",
      " Dimension of each instance: 6084\n",
      "\n",
      " Reducing dimensions using PCA ...\n",
      " Dimension reduced. \n",
      " Dimension of each instance: 680\n",
      "\n",
      " Scaling the data ...\n",
      " Data normalized. \n",
      " Final dimension of each instance: 680\n",
      "\n",
      " Validating using PHCA ...\n"
     ]
    },
    {
     "name": "stderr",
     "output_type": "stream",
     "text": [
      "100%|██████████| 1221/1221 [31:52<00:00,  1.57s/it]\n"
     ]
    },
    {
     "name": "stdout",
     "output_type": "stream",
     "text": [
      " Validation complete. \n",
      " Validation score: 0.9342 \n",
      "\n",
      "\n",
      "\n",
      " Fold 3 ------------\n",
      "\n",
      " Extracting features using HOG ...\n",
      " Features extracted. \n",
      " Dimension of each instance: 6084\n",
      "\n",
      " Reducing dimensions using PCA ...\n",
      " Dimension reduced. \n",
      " Dimension of each instance: 682\n",
      "\n",
      " Scaling the data ...\n",
      " Data normalized. \n",
      " Final dimension of each instance: 682\n",
      "\n",
      " Validating using PHCA ...\n"
     ]
    },
    {
     "name": "stderr",
     "output_type": "stream",
     "text": [
      "100%|██████████| 1221/1221 [32:27<00:00,  1.60s/it]\n"
     ]
    },
    {
     "name": "stdout",
     "output_type": "stream",
     "text": [
      " Validation complete. \n",
      " Validation score: 0.9555 \n",
      "\n",
      "\n",
      "\n",
      " Fold 4 ------------\n",
      "\n",
      " Extracting features using HOG ...\n",
      " Features extracted. \n",
      " Dimension of each instance: 6084\n",
      "\n",
      " Reducing dimensions using PCA ...\n",
      " Dimension reduced. \n",
      " Dimension of each instance: 683\n",
      "\n",
      " Scaling the data ...\n",
      " Data normalized. \n",
      " Final dimension of each instance: 683\n",
      "\n",
      " Validating using PHCA ...\n"
     ]
    },
    {
     "name": "stderr",
     "output_type": "stream",
     "text": [
      "100%|██████████| 1221/1221 [32:35<00:00,  1.60s/it]\n"
     ]
    },
    {
     "name": "stdout",
     "output_type": "stream",
     "text": [
      " Validation complete. \n",
      " Validation score: 0.9440 \n",
      "\n",
      "\n",
      "\n",
      " Fold 5 ------------\n",
      "\n",
      " Extracting features using HOG ...\n",
      " Features extracted. \n",
      " Dimension of each instance: 6084\n",
      "\n",
      " Reducing dimensions using PCA ...\n",
      " Dimension reduced. \n",
      " Dimension of each instance: 681\n",
      "\n",
      " Scaling the data ...\n",
      " Data normalized. \n",
      " Final dimension of each instance: 681\n",
      "\n",
      " Validating using PHCA ...\n"
     ]
    },
    {
     "name": "stderr",
     "output_type": "stream",
     "text": [
      "100%|██████████| 1221/1221 [32:11<00:00,  1.58s/it]\n"
     ]
    },
    {
     "name": "stdout",
     "output_type": "stream",
     "text": [
      " Validation complete. \n",
      " Validation score: 0.9500 \n",
      "\n",
      "\n",
      "======= Running parameter combination 14 =======\n",
      "HOG: pixels_per_cell = (16, 16), cells_per_block: (2, 2)\n",
      "Scaler: MinMaxScaler()\n",
      "\n",
      " Fold 1 ------------\n",
      "\n",
      " Extracting features using HOG ...\n",
      " Features extracted. \n",
      " Dimension of each instance: 6084\n",
      "\n",
      " Reducing dimensions using PCA ...\n",
      " Dimension reduced. \n",
      " Dimension of each instance: 683\n",
      "\n",
      " Scaling the data ...\n",
      " Data normalized. \n",
      " Final dimension of each instance: 683\n",
      "\n",
      " Validating using PHCA ...\n"
     ]
    },
    {
     "name": "stderr",
     "output_type": "stream",
     "text": [
      "100%|██████████| 1221/1221 [32:11<00:00,  1.58s/it]\n"
     ]
    },
    {
     "name": "stdout",
     "output_type": "stream",
     "text": [
      " Validation complete. \n",
      " Validation score: 0.9513 \n",
      "\n",
      "\n",
      "\n",
      " Fold 2 ------------\n",
      "\n",
      " Extracting features using HOG ...\n",
      " Features extracted. \n",
      " Dimension of each instance: 6084\n",
      "\n",
      " Reducing dimensions using PCA ...\n",
      " Dimension reduced. \n",
      " Dimension of each instance: 680\n",
      "\n",
      " Scaling the data ...\n",
      " Data normalized. \n",
      " Final dimension of each instance: 680\n",
      "\n",
      " Validating using PHCA ...\n"
     ]
    },
    {
     "name": "stderr",
     "output_type": "stream",
     "text": [
      "100%|██████████| 1221/1221 [31:48<00:00,  1.56s/it]\n"
     ]
    },
    {
     "name": "stdout",
     "output_type": "stream",
     "text": [
      " Validation complete. \n",
      " Validation score: 0.9395 \n",
      "\n",
      "\n",
      "\n",
      " Fold 3 ------------\n",
      "\n",
      " Extracting features using HOG ...\n",
      " Features extracted. \n",
      " Dimension of each instance: 6084\n",
      "\n",
      " Reducing dimensions using PCA ...\n",
      " Dimension reduced. \n",
      " Dimension of each instance: 682\n",
      "\n",
      " Scaling the data ...\n",
      " Data normalized. \n",
      " Final dimension of each instance: 682\n",
      "\n",
      " Validating using PHCA ...\n"
     ]
    },
    {
     "name": "stderr",
     "output_type": "stream",
     "text": [
      "100%|██████████| 1221/1221 [32:31<00:00,  1.60s/it]"
     ]
    },
    {
     "name": "stdout",
     "output_type": "stream",
     "text": [
      " Validation complete. \n",
      " Validation score: 0.9587 \n",
      "\n",
      "\n",
      "\n",
      " Fold 4 ------------\n",
      "\n",
      " Extracting features using HOG ...\n"
     ]
    },
    {
     "name": "stderr",
     "output_type": "stream",
     "text": [
      "\n"
     ]
    },
    {
     "name": "stdout",
     "output_type": "stream",
     "text": [
      " Features extracted. \n",
      " Dimension of each instance: 6084\n",
      "\n",
      " Reducing dimensions using PCA ...\n",
      " Dimension reduced. \n",
      " Dimension of each instance: 683\n",
      "\n",
      " Scaling the data ...\n",
      " Data normalized. \n",
      " Final dimension of each instance: 683\n",
      "\n",
      " Validating using PHCA ...\n"
     ]
    },
    {
     "name": "stderr",
     "output_type": "stream",
     "text": [
      "100%|██████████| 1221/1221 [32:16<00:00,  1.59s/it]\n"
     ]
    },
    {
     "name": "stdout",
     "output_type": "stream",
     "text": [
      " Validation complete. \n",
      " Validation score: 0.9448 \n",
      "\n",
      "\n",
      "\n",
      " Fold 5 ------------\n",
      "\n",
      " Extracting features using HOG ...\n",
      " Features extracted. \n",
      " Dimension of each instance: 6084\n",
      "\n",
      " Reducing dimensions using PCA ...\n",
      " Dimension reduced. \n",
      " Dimension of each instance: 681\n",
      "\n",
      " Scaling the data ...\n",
      " Data normalized. \n",
      " Final dimension of each instance: 681\n",
      "\n",
      " Validating using PHCA ...\n"
     ]
    },
    {
     "name": "stderr",
     "output_type": "stream",
     "text": [
      "100%|██████████| 1221/1221 [32:08<00:00,  1.58s/it]\n"
     ]
    },
    {
     "name": "stdout",
     "output_type": "stream",
     "text": [
      " Validation complete. \n",
      " Validation score: 0.9527 \n",
      "\n",
      "\n",
      "======= Running parameter combination 15 =======\n",
      "HOG: pixels_per_cell = (16, 16), cells_per_block: (2, 2)\n",
      "Scaler: RobustScaler()\n",
      "\n",
      " Fold 1 ------------\n",
      "\n",
      " Extracting features using HOG ...\n",
      " Features extracted. \n",
      " Dimension of each instance: 6084\n",
      "\n",
      " Reducing dimensions using PCA ...\n",
      " Dimension reduced. \n",
      " Dimension of each instance: 683\n",
      "\n",
      " Scaling the data ...\n",
      " Data normalized. \n",
      " Final dimension of each instance: 683\n",
      "\n",
      " Validating using PHCA ...\n"
     ]
    },
    {
     "name": "stderr",
     "output_type": "stream",
     "text": [
      "100%|██████████| 1221/1221 [32:01<00:00,  1.57s/it]\n"
     ]
    },
    {
     "name": "stdout",
     "output_type": "stream",
     "text": [
      " Validation complete. \n",
      " Validation score: 0.9513 \n",
      "\n",
      "\n",
      "\n",
      " Fold 2 ------------\n",
      "\n",
      " Extracting features using HOG ...\n",
      " Features extracted. \n",
      " Dimension of each instance: 6084\n",
      "\n",
      " Reducing dimensions using PCA ...\n",
      " Dimension reduced. \n",
      " Dimension of each instance: 680\n",
      "\n",
      " Scaling the data ...\n",
      " Data normalized. \n",
      " Final dimension of each instance: 680\n",
      "\n",
      " Validating using PHCA ...\n"
     ]
    },
    {
     "name": "stderr",
     "output_type": "stream",
     "text": [
      "100%|██████████| 1221/1221 [31:39<00:00,  1.56s/it]\n"
     ]
    },
    {
     "name": "stdout",
     "output_type": "stream",
     "text": [
      " Validation complete. \n",
      " Validation score: 0.9361 \n",
      "\n",
      "\n",
      "\n",
      " Fold 3 ------------\n",
      "\n",
      " Extracting features using HOG ...\n",
      " Features extracted. \n",
      " Dimension of each instance: 6084\n",
      "\n",
      " Reducing dimensions using PCA ...\n",
      " Dimension reduced. \n",
      " Dimension of each instance: 682\n",
      "\n",
      " Scaling the data ...\n",
      " Data normalized. \n",
      " Final dimension of each instance: 682\n",
      "\n",
      " Validating using PHCA ...\n"
     ]
    },
    {
     "name": "stderr",
     "output_type": "stream",
     "text": [
      "100%|██████████| 1221/1221 [32:24<00:00,  1.59s/it]\n"
     ]
    },
    {
     "name": "stdout",
     "output_type": "stream",
     "text": [
      " Validation complete. \n",
      " Validation score: 0.9542 \n",
      "\n",
      "\n",
      "\n",
      " Fold 4 ------------\n",
      "\n",
      " Extracting features using HOG ...\n",
      " Features extracted. \n",
      " Dimension of each instance: 6084\n",
      "\n",
      " Reducing dimensions using PCA ...\n",
      " Dimension reduced. \n",
      " Dimension of each instance: 683\n",
      "\n",
      " Scaling the data ...\n",
      " Data normalized. \n",
      " Final dimension of each instance: 683\n",
      "\n",
      " Validating using PHCA ...\n"
     ]
    },
    {
     "name": "stderr",
     "output_type": "stream",
     "text": [
      "100%|██████████| 1221/1221 [32:24<00:00,  1.59s/it]\n"
     ]
    },
    {
     "name": "stdout",
     "output_type": "stream",
     "text": [
      " Validation complete. \n",
      " Validation score: 0.9465 \n",
      "\n",
      "\n",
      "\n",
      " Fold 5 ------------\n",
      "\n",
      " Extracting features using HOG ...\n",
      " Features extracted. \n",
      " Dimension of each instance: 6084\n",
      "\n",
      " Reducing dimensions using PCA ...\n",
      " Dimension reduced. \n",
      " Dimension of each instance: 681\n",
      "\n",
      " Scaling the data ...\n",
      " Data normalized. \n",
      " Final dimension of each instance: 681\n",
      "\n",
      " Validating using PHCA ...\n"
     ]
    },
    {
     "name": "stderr",
     "output_type": "stream",
     "text": [
      "100%|██████████| 1221/1221 [32:06<00:00,  1.58s/it]\n"
     ]
    },
    {
     "name": "stdout",
     "output_type": "stream",
     "text": [
      " Validation complete. \n",
      " Validation score: 0.9513 \n",
      "\n",
      "\n",
      "======= Running parameter combination 16 =======\n",
      "HOG: pixels_per_cell = (16, 16), cells_per_block: (3, 3)\n",
      "Scaler: StandardScaler()\n",
      "\n",
      " Fold 1 ------------\n",
      "\n",
      " Extracting features using HOG ...\n",
      " Features extracted. \n",
      " Dimension of each instance: 11664\n",
      "\n",
      " Reducing dimensions using PCA ...\n",
      " Dimension reduced. \n",
      " Dimension of each instance: 713\n",
      "\n",
      " Scaling the data ...\n",
      " Data normalized. \n",
      " Final dimension of each instance: 713\n",
      "\n",
      " Validating using PHCA ...\n"
     ]
    },
    {
     "name": "stderr",
     "output_type": "stream",
     "text": [
      "100%|██████████| 1221/1221 [32:32<00:00,  1.60s/it]\n"
     ]
    },
    {
     "name": "stdout",
     "output_type": "stream",
     "text": [
      " Validation complete. \n",
      " Validation score: 0.9540 \n",
      "\n",
      "\n",
      "\n",
      " Fold 2 ------------\n",
      "\n",
      " Extracting features using HOG ...\n",
      " Features extracted. \n",
      " Dimension of each instance: 11664\n",
      "\n",
      " Reducing dimensions using PCA ...\n",
      " Dimension reduced. \n",
      " Dimension of each instance: 711\n",
      "\n",
      " Scaling the data ...\n",
      " Data normalized. \n",
      " Final dimension of each instance: 711\n",
      "\n",
      " Validating using PHCA ...\n"
     ]
    },
    {
     "name": "stderr",
     "output_type": "stream",
     "text": [
      "100%|██████████| 1221/1221 [32:26<00:00,  1.59s/it]\n"
     ]
    },
    {
     "name": "stdout",
     "output_type": "stream",
     "text": [
      " Validation complete. \n",
      " Validation score: 0.9413 \n",
      "\n",
      "\n",
      "\n",
      " Fold 3 ------------\n",
      "\n",
      " Extracting features using HOG ...\n",
      " Features extracted. \n",
      " Dimension of each instance: 11664\n",
      "\n",
      " Reducing dimensions using PCA ...\n",
      " Dimension reduced. \n",
      " Dimension of each instance: 713\n",
      "\n",
      " Scaling the data ...\n",
      " Data normalized. \n",
      " Final dimension of each instance: 713\n",
      "\n",
      " Validating using PHCA ...\n"
     ]
    },
    {
     "name": "stderr",
     "output_type": "stream",
     "text": [
      "100%|██████████| 1221/1221 [32:33<00:00,  1.60s/it]\n"
     ]
    },
    {
     "name": "stdout",
     "output_type": "stream",
     "text": [
      " Validation complete. \n",
      " Validation score: 0.9569 \n",
      "\n",
      "\n",
      "\n",
      " Fold 4 ------------\n",
      "\n",
      " Extracting features using HOG ...\n",
      " Features extracted. \n",
      " Dimension of each instance: 11664\n",
      "\n",
      " Reducing dimensions using PCA ...\n",
      " Dimension reduced. \n",
      " Dimension of each instance: 713\n",
      "\n",
      " Scaling the data ...\n",
      " Data normalized. \n",
      " Final dimension of each instance: 713\n",
      "\n",
      " Validating using PHCA ...\n"
     ]
    },
    {
     "name": "stderr",
     "output_type": "stream",
     "text": [
      "100%|██████████| 1221/1221 [32:39<00:00,  1.60s/it]\n"
     ]
    },
    {
     "name": "stdout",
     "output_type": "stream",
     "text": [
      " Validation complete. \n",
      " Validation score: 0.9590 \n",
      "\n",
      "\n",
      "\n",
      " Fold 5 ------------\n",
      "\n",
      " Extracting features using HOG ...\n",
      " Features extracted. \n",
      " Dimension of each instance: 11664\n",
      "\n",
      " Reducing dimensions using PCA ...\n",
      " Dimension reduced. \n",
      " Dimension of each instance: 712\n",
      "\n",
      " Scaling the data ...\n",
      " Data normalized. \n",
      " Final dimension of each instance: 712\n",
      "\n",
      " Validating using PHCA ...\n"
     ]
    },
    {
     "name": "stderr",
     "output_type": "stream",
     "text": [
      "100%|██████████| 1221/1221 [32:29<00:00,  1.60s/it]\n"
     ]
    },
    {
     "name": "stdout",
     "output_type": "stream",
     "text": [
      " Validation complete. \n",
      " Validation score: 0.9587 \n",
      "\n",
      "\n",
      "======= Running parameter combination 17 =======\n",
      "HOG: pixels_per_cell = (16, 16), cells_per_block: (3, 3)\n",
      "Scaler: MinMaxScaler()\n",
      "\n",
      " Fold 1 ------------\n",
      "\n",
      " Extracting features using HOG ...\n",
      " Features extracted. \n",
      " Dimension of each instance: 11664\n",
      "\n",
      " Reducing dimensions using PCA ...\n",
      " Dimension reduced. \n",
      " Dimension of each instance: 713\n",
      "\n",
      " Scaling the data ...\n",
      " Data normalized. \n",
      " Final dimension of each instance: 713\n",
      "\n",
      " Validating using PHCA ...\n"
     ]
    },
    {
     "name": "stderr",
     "output_type": "stream",
     "text": [
      "100%|██████████| 1221/1221 [32:36<00:00,  1.60s/it]\n"
     ]
    },
    {
     "name": "stdout",
     "output_type": "stream",
     "text": [
      " Validation complete. \n",
      " Validation score: 0.9540 \n",
      "\n",
      "\n",
      "\n",
      " Fold 2 ------------\n",
      "\n",
      " Extracting features using HOG ...\n",
      " Features extracted. \n",
      " Dimension of each instance: 11664\n",
      "\n",
      " Reducing dimensions using PCA ...\n",
      " Dimension reduced. \n",
      " Dimension of each instance: 711\n",
      "\n",
      " Scaling the data ...\n",
      " Data normalized. \n",
      " Final dimension of each instance: 711\n",
      "\n",
      " Validating using PHCA ...\n"
     ]
    },
    {
     "name": "stderr",
     "output_type": "stream",
     "text": [
      "100%|██████████| 1221/1221 [32:38<00:00,  1.60s/it]\n"
     ]
    },
    {
     "name": "stdout",
     "output_type": "stream",
     "text": [
      " Validation complete. \n",
      " Validation score: 0.9479 \n",
      "\n",
      "\n",
      "\n",
      " Fold 3 ------------\n",
      "\n",
      " Extracting features using HOG ...\n",
      " Features extracted. \n",
      " Dimension of each instance: 11664\n",
      "\n",
      " Reducing dimensions using PCA ...\n",
      " Dimension reduced. \n",
      " Dimension of each instance: 713\n",
      "\n",
      " Scaling the data ...\n",
      " Data normalized. \n",
      " Final dimension of each instance: 713\n",
      "\n",
      " Validating using PHCA ...\n"
     ]
    },
    {
     "name": "stderr",
     "output_type": "stream",
     "text": [
      "100%|██████████| 1221/1221 [32:57<00:00,  1.62s/it]\n"
     ]
    },
    {
     "name": "stdout",
     "output_type": "stream",
     "text": [
      " Validation complete. \n",
      " Validation score: 0.9638 \n",
      "\n",
      "\n",
      "\n",
      " Fold 4 ------------\n",
      "\n",
      " Extracting features using HOG ...\n",
      " Features extracted. \n",
      " Dimension of each instance: 11664\n",
      "\n",
      " Reducing dimensions using PCA ...\n",
      " Dimension reduced. \n",
      " Dimension of each instance: 713\n",
      "\n",
      " Scaling the data ...\n",
      " Data normalized. \n",
      " Final dimension of each instance: 713\n",
      "\n",
      " Validating using PHCA ...\n"
     ]
    },
    {
     "name": "stderr",
     "output_type": "stream",
     "text": [
      "100%|██████████| 1221/1221 [32:55<00:00,  1.62s/it]\n"
     ]
    },
    {
     "name": "stdout",
     "output_type": "stream",
     "text": [
      " Validation complete. \n",
      " Validation score: 0.9610 \n",
      "\n",
      "\n",
      "\n",
      " Fold 5 ------------\n",
      "\n",
      " Extracting features using HOG ...\n",
      " Features extracted. \n",
      " Dimension of each instance: 11664\n",
      "\n",
      " Reducing dimensions using PCA ...\n",
      " Dimension reduced. \n",
      " Dimension of each instance: 712\n",
      "\n",
      " Scaling the data ...\n",
      " Data normalized. \n",
      " Final dimension of each instance: 712\n",
      "\n",
      " Validating using PHCA ...\n"
     ]
    },
    {
     "name": "stderr",
     "output_type": "stream",
     "text": [
      "100%|██████████| 1221/1221 [32:50<00:00,  1.61s/it]\n"
     ]
    },
    {
     "name": "stdout",
     "output_type": "stream",
     "text": [
      " Validation complete. \n",
      " Validation score: 0.9600 \n",
      "\n",
      "\n",
      "======= Running parameter combination 18 =======\n",
      "HOG: pixels_per_cell = (16, 16), cells_per_block: (3, 3)\n",
      "Scaler: RobustScaler()\n",
      "\n",
      " Fold 1 ------------\n",
      "\n",
      " Extracting features using HOG ...\n",
      " Features extracted. \n",
      " Dimension of each instance: 11664\n",
      "\n",
      " Reducing dimensions using PCA ...\n",
      " Dimension reduced. \n",
      " Dimension of each instance: 713\n",
      "\n",
      " Scaling the data ...\n",
      " Data normalized. \n",
      " Final dimension of each instance: 713\n",
      "\n",
      " Validating using PHCA ...\n"
     ]
    },
    {
     "name": "stderr",
     "output_type": "stream",
     "text": [
      "100%|██████████| 1221/1221 [32:34<00:00,  1.60s/it]\n"
     ]
    },
    {
     "name": "stdout",
     "output_type": "stream",
     "text": [
      " Validation complete. \n",
      " Validation score: 0.9552 \n",
      "\n",
      "\n",
      "\n",
      " Fold 2 ------------\n",
      "\n",
      " Extracting features using HOG ...\n",
      " Features extracted. \n",
      " Dimension of each instance: 11664\n",
      "\n",
      " Reducing dimensions using PCA ...\n",
      " Dimension reduced. \n",
      " Dimension of each instance: 711\n",
      "\n",
      " Scaling the data ...\n",
      " Data normalized. \n",
      " Final dimension of each instance: 711\n",
      "\n",
      " Validating using PHCA ...\n"
     ]
    },
    {
     "name": "stderr",
     "output_type": "stream",
     "text": [
      "100%|██████████| 1221/1221 [32:28<00:00,  1.60s/it]\n"
     ]
    },
    {
     "name": "stdout",
     "output_type": "stream",
     "text": [
      " Validation complete. \n",
      " Validation score: 0.9413 \n",
      "\n",
      "\n",
      "\n",
      " Fold 3 ------------\n",
      "\n",
      " Extracting features using HOG ...\n",
      " Features extracted. \n",
      " Dimension of each instance: 11664\n",
      "\n",
      " Reducing dimensions using PCA ...\n",
      " Dimension reduced. \n",
      " Dimension of each instance: 713\n",
      "\n",
      " Scaling the data ...\n",
      " Data normalized. \n",
      " Final dimension of each instance: 713\n",
      "\n",
      " Validating using PHCA ...\n"
     ]
    },
    {
     "name": "stderr",
     "output_type": "stream",
     "text": [
      "100%|██████████| 1221/1221 [32:35<00:00,  1.60s/it]\n"
     ]
    },
    {
     "name": "stdout",
     "output_type": "stream",
     "text": [
      " Validation complete. \n",
      " Validation score: 0.9569 \n",
      "\n",
      "\n",
      "\n",
      " Fold 4 ------------\n",
      "\n",
      " Extracting features using HOG ...\n",
      " Features extracted. \n",
      " Dimension of each instance: 11664\n",
      "\n",
      " Reducing dimensions using PCA ...\n",
      " Dimension reduced. \n",
      " Dimension of each instance: 713\n",
      "\n",
      " Scaling the data ...\n",
      " Data normalized. \n",
      " Final dimension of each instance: 713\n",
      "\n",
      " Validating using PHCA ...\n"
     ]
    },
    {
     "name": "stderr",
     "output_type": "stream",
     "text": [
      "100%|██████████| 1221/1221 [32:42<00:00,  1.61s/it]\n"
     ]
    },
    {
     "name": "stdout",
     "output_type": "stream",
     "text": [
      " Validation complete. \n",
      " Validation score: 0.9621 \n",
      "\n",
      "\n",
      "\n",
      " Fold 5 ------------\n",
      "\n",
      " Extracting features using HOG ...\n",
      " Features extracted. \n",
      " Dimension of each instance: 11664\n",
      "\n",
      " Reducing dimensions using PCA ...\n",
      " Dimension reduced. \n",
      " Dimension of each instance: 712\n",
      "\n",
      " Scaling the data ...\n",
      " Data normalized. \n",
      " Final dimension of each instance: 712\n",
      "\n",
      " Validating using PHCA ...\n"
     ]
    },
    {
     "name": "stderr",
     "output_type": "stream",
     "text": [
      "100%|██████████| 1221/1221 [32:15<00:00,  1.59s/it]"
     ]
    },
    {
     "name": "stdout",
     "output_type": "stream",
     "text": [
      " Validation complete. \n",
      " Validation score: 0.9587 \n",
      "\n",
      "\n"
     ]
    },
    {
     "name": "stderr",
     "output_type": "stream",
     "text": [
      "\n"
     ]
    }
   ],
   "source": [
    "if extract_features:\n",
    "    # ---------- DATA PREPARATION\n",
    "    print(\"Preparing dataset ...\")\n",
    "    print()\n",
    "\n",
    "    # reshaping data\n",
    "    (HEIGHT, WIDTH) = breast_cancer['image_dim'][:2]\n",
    "    X = breast_cancer['data'].reshape(-1, HEIGHT, WIDTH)\n",
    "    y = breast_cancer['target']\n",
    "    print(f\"Data is reshaped. \\n Dimension of each instance: {HEIGHT*WIDTH}\")\n",
    "\n",
    "\n",
    "    # data splitting    \n",
    "    test_size = 0.2\n",
    "    indices = np.arange(len(y))\n",
    "    X_train, X_test, y_train, y_test = train_test_split(X, y, test_size=test_size, stratify=y, random_state=42)\n",
    "    print(f\"Data is split. \\n Train/Validation size: {y_train.shape[0]} images \\n Test size: {y_test.shape[0]} images \\n\")\n",
    "\n",
    "    # parameters and folds\n",
    "    hog_params = [{'pixels_per_cell': i[0],\n",
    "                   'cells_per_block': i[1]} for i in list(product(ppc, cpb))]\n",
    "    params = list(product(hog_params, scalers))\n",
    "    k_folds = StratifiedKFold(n_splits=cv_folds, shuffle=True,\n",
    "                                  random_state=42)\n",
    "    \n",
    "    # iterates every parameter combination\n",
    "    param_scores = []\n",
    "    for i, param in enumerate(params):\n",
    "        print(f\"======= Running parameter combination {i+1} =======\")\n",
    "        print(f'HOG: pixels_per_cell = {param[0][\"pixels_per_cell\"]}, cells_per_block: {param[0][\"cells_per_block\"]}')\n",
    "        print(f'Scaler: {param[1]}')\n",
    "\n",
    "        # 5-fold cross validation\n",
    "        # divides the training set into 5 folds with stratification\n",
    "        # 4 folds for training and 1 fold for validation\n",
    "        val_scores, j = [], 0\n",
    "        for train_idx, val_idx in k_folds.split(X_train, y_train):\n",
    "            X_tr, X_v = X_train[train_idx], X_train[val_idx]\n",
    "            y_tr, y_v = y_train[train_idx], y_train[val_idx]\n",
    "\n",
    "            # feature extraction (HOG)\n",
    "            print(f\"\\n Fold {j+1} ------------\")\n",
    "            print(f\"\\n Extracting features using HOG ...\")\n",
    "            X_tr = np.array([hog(img, orientations=9, \n",
    "                                 **param[0]).flatten()\n",
    "                            for img in X_tr])\n",
    "            X_v = np.array([hog(img, orientations=9, \n",
    "                                 **param[0]).flatten()\n",
    "                            for img in X_v])\n",
    "            print(f\" Features extracted. \\n Dimension of each instance: {X_v[0].shape[0]}\")\n",
    "        \n",
    "            # dimension reduction\n",
    "            print(f\"\\n Reducing dimensions using PCA ...\")\n",
    "            pca_model = PCA(0.95).fit(X_tr)\n",
    "            X_tr, X_v = pca_model.transform(X_tr), pca_model.transform(X_v)\n",
    "            print(f\" Dimension reduced. \\n Dimension of each instance: {X_v[0].shape[0]}\")\n",
    "\n",
    "            # data scaling\n",
    "            print(f\"\\n Scaling the data ...\")\n",
    "            scaler = param[1]\n",
    "            scaler.fit(X_tr)\n",
    "            X_tr, X_v = scaler.transform(X_tr), scaler.transform(X_v)\n",
    "            print(f\" Data normalized. \\n Final dimension of each instance: {X_v[0].shape[0]}\")\n",
    "\n",
    "            # validation\n",
    "            print(f\"\\n Validating using PHCA ...\")\n",
    "            phca_model = PersistentHomologyClassifier()\n",
    "            phca_model.fit(X_tr, y_tr)\n",
    "\n",
    "            score = f1_score(y_v, phca_model.predict(X_v))\n",
    "            # score = np.random.rand()\n",
    "            val_scores.append(score)\n",
    "            print(f\" Validation complete. \\n Validation score: {score:0.4f} \\n\\n\")\n",
    "\n",
    "            if j == 5:\n",
    "                j = 0\n",
    "            else:\n",
    "                j += 1\n",
    "        param_scores.append(val_scores)\n",
    "    param_scores = np.array(param_scores)"
   ]
  },
  {
   "cell_type": "code",
   "execution_count": 10,
   "id": "f4353fe7",
   "metadata": {},
   "outputs": [],
   "source": [
    "np.save('param_f1scores.npy', param_scores)"
   ]
  },
  {
   "cell_type": "code",
   "execution_count": 14,
   "id": "2b58bd81",
   "metadata": {},
   "outputs": [
    {
     "data": {
      "text/plain": [
       "({'pixels_per_cell': (4, 4), 'cells_per_block': (3, 3)}, StandardScaler())"
      ]
     },
     "execution_count": 14,
     "metadata": {},
     "output_type": "execute_result"
    }
   ],
   "source": [
    "ave_scores = np.mean(param_scores, axis=1)\n",
    "best_idx = int(np.argmax(ave_scores))\n",
    "params[best_idx]"
   ]
  },
  {
   "cell_type": "code",
   "execution_count": 7,
   "id": "899d40a0",
   "metadata": {},
   "outputs": [
    {
     "name": "stdout",
     "output_type": "stream",
     "text": [
      "Data is reshaped. \n",
      " Dimension of each instance: 50176\n",
      "Data is split. \n",
      " Train/Validation size: 6105 images \n",
      " Test size: 1527 images \n",
      "\n",
      "Parameters in use: ({'pixels_per_cell': (4, 4), 'cells_per_block': (3, 3)}, StandardScaler())\n",
      "Extracting features using HOG ...\n",
      "Features extracted. \n",
      " Dimension of each instance: 236196\n",
      "Reducing dimensions using PCA ...\n",
      "Dimension reduced. \n",
      " Dimension of each instance: 2432\n",
      "Data normalized. \n",
      " Final dimension of each instance: 2432\n",
      "Starting classification --------------\n",
      "The PHCA model is learning from the data ...\n",
      "Model finished learning. \n",
      "\n",
      "The model is now predicting new data ...\n"
     ]
    },
    {
     "name": "stderr",
     "output_type": "stream",
     "text": [
      "100%|██████████| 1527/1527 [1:20:37<00:00,  3.17s/it]"
     ]
    },
    {
     "name": "stdout",
     "output_type": "stream",
     "text": [
      "              precision    recall  f1-score   support\n",
      "\n",
      "           0       0.97      0.91      0.94       504\n",
      "           1       0.96      0.99      0.97      1023\n",
      "\n",
      "    accuracy                           0.96      1527\n",
      "   macro avg       0.96      0.95      0.95      1527\n",
      "weighted avg       0.96      0.96      0.96      1527\n",
      "\n",
      "Parameters in use: ({'pixels_per_cell': (16, 16), 'cells_per_block': (3, 3)}, MinMaxScaler())\n",
      "Extracting features using HOG ...\n"
     ]
    },
    {
     "name": "stderr",
     "output_type": "stream",
     "text": [
      "\n"
     ]
    },
    {
     "ename": "ValueError",
     "evalue": "The input image is too small given the values of pixels_per_cell and cells_per_block. It should have at least: 48 rows and 48 cols.",
     "output_type": "error",
     "traceback": [
      "\u001b[1;31m---------------------------------------------------------------------------\u001b[0m",
      "\u001b[1;31mValueError\u001b[0m                                Traceback (most recent call last)",
      "Cell \u001b[1;32mIn[7], line 37\u001b[0m\n\u001b[0;32m     35\u001b[0m \u001b[38;5;66;03m# feature extraction\u001b[39;00m\n\u001b[0;32m     36\u001b[0m \u001b[38;5;28mprint\u001b[39m(\u001b[38;5;124m\"\u001b[39m\u001b[38;5;124mExtracting features using HOG ...\u001b[39m\u001b[38;5;124m\"\u001b[39m)\n\u001b[1;32m---> 37\u001b[0m X_train \u001b[38;5;241m=\u001b[39m np\u001b[38;5;241m.\u001b[39marray([hog(img, orientations\u001b[38;5;241m=\u001b[39m\u001b[38;5;241m9\u001b[39m, \n\u001b[0;32m     38\u001b[0m                     \u001b[38;5;241m*\u001b[39m\u001b[38;5;241m*\u001b[39mparams[idx][\u001b[38;5;241m0\u001b[39m])\u001b[38;5;241m.\u001b[39mflatten()\n\u001b[0;32m     39\u001b[0m                     \u001b[38;5;28;01mfor\u001b[39;00m img \u001b[38;5;129;01min\u001b[39;00m X_train])\n\u001b[0;32m     40\u001b[0m X_test \u001b[38;5;241m=\u001b[39m np\u001b[38;5;241m.\u001b[39marray([hog(img, orientations\u001b[38;5;241m=\u001b[39m\u001b[38;5;241m9\u001b[39m, \n\u001b[0;32m     41\u001b[0m                     \u001b[38;5;241m*\u001b[39m\u001b[38;5;241m*\u001b[39mparams[idx][\u001b[38;5;241m0\u001b[39m])\u001b[38;5;241m.\u001b[39mflatten()\n\u001b[0;32m     42\u001b[0m                     \u001b[38;5;28;01mfor\u001b[39;00m img \u001b[38;5;129;01min\u001b[39;00m X_test])\n\u001b[0;32m     43\u001b[0m \u001b[38;5;28mprint\u001b[39m(\u001b[38;5;124mf\u001b[39m\u001b[38;5;124m\"\u001b[39m\u001b[38;5;124mFeatures extracted. \u001b[39m\u001b[38;5;130;01m\\n\u001b[39;00m\u001b[38;5;124m Dimension of each instance: \u001b[39m\u001b[38;5;132;01m{\u001b[39;00mX_test[\u001b[38;5;241m0\u001b[39m]\u001b[38;5;241m.\u001b[39mshape[\u001b[38;5;241m0\u001b[39m]\u001b[38;5;132;01m}\u001b[39;00m\u001b[38;5;124m\"\u001b[39m)\n",
      "Cell \u001b[1;32mIn[7], line 37\u001b[0m, in \u001b[0;36m<listcomp>\u001b[1;34m(.0)\u001b[0m\n\u001b[0;32m     35\u001b[0m \u001b[38;5;66;03m# feature extraction\u001b[39;00m\n\u001b[0;32m     36\u001b[0m \u001b[38;5;28mprint\u001b[39m(\u001b[38;5;124m\"\u001b[39m\u001b[38;5;124mExtracting features using HOG ...\u001b[39m\u001b[38;5;124m\"\u001b[39m)\n\u001b[1;32m---> 37\u001b[0m X_train \u001b[38;5;241m=\u001b[39m np\u001b[38;5;241m.\u001b[39marray([hog(img, orientations\u001b[38;5;241m=\u001b[39m\u001b[38;5;241m9\u001b[39m, \n\u001b[0;32m     38\u001b[0m                     \u001b[38;5;241m*\u001b[39m\u001b[38;5;241m*\u001b[39mparams[idx][\u001b[38;5;241m0\u001b[39m])\u001b[38;5;241m.\u001b[39mflatten()\n\u001b[0;32m     39\u001b[0m                     \u001b[38;5;28;01mfor\u001b[39;00m img \u001b[38;5;129;01min\u001b[39;00m X_train])\n\u001b[0;32m     40\u001b[0m X_test \u001b[38;5;241m=\u001b[39m np\u001b[38;5;241m.\u001b[39marray([hog(img, orientations\u001b[38;5;241m=\u001b[39m\u001b[38;5;241m9\u001b[39m, \n\u001b[0;32m     41\u001b[0m                     \u001b[38;5;241m*\u001b[39m\u001b[38;5;241m*\u001b[39mparams[idx][\u001b[38;5;241m0\u001b[39m])\u001b[38;5;241m.\u001b[39mflatten()\n\u001b[0;32m     42\u001b[0m                     \u001b[38;5;28;01mfor\u001b[39;00m img \u001b[38;5;129;01min\u001b[39;00m X_test])\n\u001b[0;32m     43\u001b[0m \u001b[38;5;28mprint\u001b[39m(\u001b[38;5;124mf\u001b[39m\u001b[38;5;124m\"\u001b[39m\u001b[38;5;124mFeatures extracted. \u001b[39m\u001b[38;5;130;01m\\n\u001b[39;00m\u001b[38;5;124m Dimension of each instance: \u001b[39m\u001b[38;5;132;01m{\u001b[39;00mX_test[\u001b[38;5;241m0\u001b[39m]\u001b[38;5;241m.\u001b[39mshape[\u001b[38;5;241m0\u001b[39m]\u001b[38;5;132;01m}\u001b[39;00m\u001b[38;5;124m\"\u001b[39m)\n",
      "File \u001b[1;32mc:\\Users\\ADMIN\\Desktop\\Jetomo, De Lara\\Breast Cancer\\.venv\\lib\\site-packages\\skimage\\_shared\\utils.py:438\u001b[0m, in \u001b[0;36mchannel_as_last_axis.__call__.<locals>.fixed_func\u001b[1;34m(*args, **kwargs)\u001b[0m\n\u001b[0;32m    <a href='file:///c%3A/Users/ADMIN/Desktop/Jetomo%2C%20De%20Lara/Breast%20Cancer/.venv/lib/site-packages/skimage/_shared/utils.py?line=434'>435</a>\u001b[0m channel_axis \u001b[39m=\u001b[39m kwargs\u001b[39m.\u001b[39mget(\u001b[39m'\u001b[39m\u001b[39mchannel_axis\u001b[39m\u001b[39m'\u001b[39m, \u001b[39mNone\u001b[39;00m)\n\u001b[0;32m    <a href='file:///c%3A/Users/ADMIN/Desktop/Jetomo%2C%20De%20Lara/Breast%20Cancer/.venv/lib/site-packages/skimage/_shared/utils.py?line=436'>437</a>\u001b[0m \u001b[39mif\u001b[39;00m channel_axis \u001b[39mis\u001b[39;00m \u001b[39mNone\u001b[39;00m:\n\u001b[1;32m--> <a href='file:///c%3A/Users/ADMIN/Desktop/Jetomo%2C%20De%20Lara/Breast%20Cancer/.venv/lib/site-packages/skimage/_shared/utils.py?line=437'>438</a>\u001b[0m     \u001b[39mreturn\u001b[39;00m func(\u001b[39m*\u001b[39margs, \u001b[39m*\u001b[39m\u001b[39m*\u001b[39mkwargs)\n\u001b[0;32m    <a href='file:///c%3A/Users/ADMIN/Desktop/Jetomo%2C%20De%20Lara/Breast%20Cancer/.venv/lib/site-packages/skimage/_shared/utils.py?line=439'>440</a>\u001b[0m \u001b[39m# TODO: convert scalars to a tuple in anticipation of eventually\u001b[39;00m\n\u001b[0;32m    <a href='file:///c%3A/Users/ADMIN/Desktop/Jetomo%2C%20De%20Lara/Breast%20Cancer/.venv/lib/site-packages/skimage/_shared/utils.py?line=440'>441</a>\u001b[0m \u001b[39m#       supporting a tuple of channel axes. Right now, only an\u001b[39;00m\n\u001b[0;32m    <a href='file:///c%3A/Users/ADMIN/Desktop/Jetomo%2C%20De%20Lara/Breast%20Cancer/.venv/lib/site-packages/skimage/_shared/utils.py?line=441'>442</a>\u001b[0m \u001b[39m#       integer or a single-element tuple is supported, though.\u001b[39;00m\n\u001b[0;32m    <a href='file:///c%3A/Users/ADMIN/Desktop/Jetomo%2C%20De%20Lara/Breast%20Cancer/.venv/lib/site-packages/skimage/_shared/utils.py?line=442'>443</a>\u001b[0m \u001b[39mif\u001b[39;00m np\u001b[39m.\u001b[39misscalar(channel_axis):\n",
      "File \u001b[1;32mc:\\Users\\ADMIN\\Desktop\\Jetomo, De Lara\\Breast Cancer\\.venv\\lib\\site-packages\\skimage\\feature\\_hog.py:314\u001b[0m, in \u001b[0;36mhog\u001b[1;34m(image, orientations, pixels_per_cell, cells_per_block, block_norm, visualize, transform_sqrt, feature_vector, channel_axis)\u001b[0m\n\u001b[0;32m    <a href='file:///c%3A/Users/ADMIN/Desktop/Jetomo%2C%20De%20Lara/Breast%20Cancer/.venv/lib/site-packages/skimage/feature/_hog.py?line=311'>312</a>\u001b[0m     min_row \u001b[39m=\u001b[39m b_row \u001b[39m*\u001b[39m c_row\n\u001b[0;32m    <a href='file:///c%3A/Users/ADMIN/Desktop/Jetomo%2C%20De%20Lara/Breast%20Cancer/.venv/lib/site-packages/skimage/feature/_hog.py?line=312'>313</a>\u001b[0m     min_col \u001b[39m=\u001b[39m b_col \u001b[39m*\u001b[39m c_col\n\u001b[1;32m--> <a href='file:///c%3A/Users/ADMIN/Desktop/Jetomo%2C%20De%20Lara/Breast%20Cancer/.venv/lib/site-packages/skimage/feature/_hog.py?line=313'>314</a>\u001b[0m     \u001b[39mraise\u001b[39;00m \u001b[39mValueError\u001b[39;00m(\n\u001b[0;32m    <a href='file:///c%3A/Users/ADMIN/Desktop/Jetomo%2C%20De%20Lara/Breast%20Cancer/.venv/lib/site-packages/skimage/feature/_hog.py?line=314'>315</a>\u001b[0m         \u001b[39m'\u001b[39m\u001b[39mThe input image is too small given the values of \u001b[39m\u001b[39m'\u001b[39m\n\u001b[0;32m    <a href='file:///c%3A/Users/ADMIN/Desktop/Jetomo%2C%20De%20Lara/Breast%20Cancer/.venv/lib/site-packages/skimage/feature/_hog.py?line=315'>316</a>\u001b[0m         \u001b[39m'\u001b[39m\u001b[39mpixels_per_cell and cells_per_block. \u001b[39m\u001b[39m'\u001b[39m\n\u001b[0;32m    <a href='file:///c%3A/Users/ADMIN/Desktop/Jetomo%2C%20De%20Lara/Breast%20Cancer/.venv/lib/site-packages/skimage/feature/_hog.py?line=316'>317</a>\u001b[0m         \u001b[39m'\u001b[39m\u001b[39mIt should have at least: \u001b[39m\u001b[39m'\u001b[39m\n\u001b[0;32m    <a href='file:///c%3A/Users/ADMIN/Desktop/Jetomo%2C%20De%20Lara/Breast%20Cancer/.venv/lib/site-packages/skimage/feature/_hog.py?line=317'>318</a>\u001b[0m         \u001b[39mf\u001b[39m\u001b[39m'\u001b[39m\u001b[39m{\u001b[39;00mmin_row\u001b[39m}\u001b[39;00m\u001b[39m rows and \u001b[39m\u001b[39m{\u001b[39;00mmin_col\u001b[39m}\u001b[39;00m\u001b[39m cols.\u001b[39m\u001b[39m'\u001b[39m\n\u001b[0;32m    <a href='file:///c%3A/Users/ADMIN/Desktop/Jetomo%2C%20De%20Lara/Breast%20Cancer/.venv/lib/site-packages/skimage/feature/_hog.py?line=318'>319</a>\u001b[0m     )\n\u001b[0;32m    <a href='file:///c%3A/Users/ADMIN/Desktop/Jetomo%2C%20De%20Lara/Breast%20Cancer/.venv/lib/site-packages/skimage/feature/_hog.py?line=319'>320</a>\u001b[0m normalized_blocks \u001b[39m=\u001b[39m np\u001b[39m.\u001b[39mzeros(\n\u001b[0;32m    <a href='file:///c%3A/Users/ADMIN/Desktop/Jetomo%2C%20De%20Lara/Breast%20Cancer/.venv/lib/site-packages/skimage/feature/_hog.py?line=320'>321</a>\u001b[0m     (n_blocks_row, n_blocks_col, b_row, b_col, orientations), dtype\u001b[39m=\u001b[39mfloat_dtype\n\u001b[0;32m    <a href='file:///c%3A/Users/ADMIN/Desktop/Jetomo%2C%20De%20Lara/Breast%20Cancer/.venv/lib/site-packages/skimage/feature/_hog.py?line=321'>322</a>\u001b[0m )\n\u001b[0;32m    <a href='file:///c%3A/Users/ADMIN/Desktop/Jetomo%2C%20De%20Lara/Breast%20Cancer/.venv/lib/site-packages/skimage/feature/_hog.py?line=323'>324</a>\u001b[0m \u001b[39mfor\u001b[39;00m r \u001b[39min\u001b[39;00m \u001b[39mrange\u001b[39m(n_blocks_row):\n",
      "\u001b[1;31mValueError\u001b[0m: The input image is too small given the values of pixels_per_cell and cells_per_block. It should have at least: 48 rows and 48 cols."
     ]
    },
    {
     "data": {
      "image/png": "[encoded data removed]",
      "text/plain": [
       "<Figure size 640x480 with 1 Axes>"
      ]
     },
     "metadata": {},
     "output_type": "display_data"
    }
   ],
   "source": [
    "import time\n",
    "\n",
    "ppc = [(4,4), (8,8), (16,16)]\n",
    "cpb = [(2,2), (3,3)]\n",
    "scalers = [StandardScaler(), MinMaxScaler(), RobustScaler()]\n",
    "hog_params = [{'pixels_per_cell': i[0],\n",
    "                   'cells_per_block': i[1]} for i in list(product(ppc, cpb))]\n",
    "params = list(product(hog_params, scalers))\n",
    "\n",
    "# pulling best parameters\n",
    "param_scores = np.load('param_f1scores.npy')\n",
    "ave_scores = np.mean(param_scores, axis=1)\n",
    "best_idx = np.argsort(ave_scores)[::-1][:2]\n",
    "\n",
    "# reshaping data\n",
    "(HEIGHT, WIDTH) = breast_cancer['image_dim'][:2]\n",
    "X = breast_cancer['data'].reshape(-1, HEIGHT, WIDTH)\n",
    "y = breast_cancer['target']\n",
    "print(f\"Data is reshaped. \\n Dimension of each instance: {HEIGHT*WIDTH}\")\n",
    "\n",
    "# data splitting\n",
    "test_size = 0.2\n",
    "indices = np.arange(len(y))\n",
    "X_train, X_test, y_train, y_test = train_test_split(X, y, test_size=test_size, stratify=y, random_state=42)\n",
    "print(f\"Data is split. \\n Train/Validation size: {y_train.shape[0]} images \\n Test size: {y_test.shape[0]} images \\n\")\n",
    "labels = {'true_labels': y_test}\n",
    "compute_time = {'bestparam0': [], 'bestparam1': [],\n",
    "                'details': ['data_prep', 'train', 'predict']}\n",
    "\n",
    "\n",
    "for i, idx in enumerate(best_idx):\n",
    "\n",
    "    start_time = time.time()\n",
    "    print(f'Parameters in use: {params[idx]}')\n",
    "    # feature extraction\n",
    "    print(\"Extracting features using HOG ...\")\n",
    "    X_trn = np.array([hog(img, orientations=9, \n",
    "                        **params[idx][0]).flatten()\n",
    "                        for img in X_train])\n",
    "    X_tst = np.array([hog(img, orientations=9, \n",
    "                        **params[idx][0]).flatten()\n",
    "                        for img in X_test])\n",
    "    print(f\"Features extracted. \\n Dimension of each instance: {X_tst[0].shape[0]}\")\n",
    "\n",
    "    # dimension reduction\n",
    "    print(\"Reducing dimensions using PCA ...\")\n",
    "    pca_model = PCA(0.95).fit(X_trn)\n",
    "    X_trn, X_tst = pca_model.transform(X_trn), pca_model.transform(X_tst)\n",
    "    print(f\"Dimension reduced. \\n Dimension of each instance: {X_tst[0].shape[0]}\")\n",
    "\n",
    "    # feature scaling\n",
    "    scaler = params[idx][1]\n",
    "    scaler.fit(X_trn)\n",
    "    X_trn, X_tst = scaler.transform(X_trn), scaler.transform(X_tst)\n",
    "    print(f\"Data normalized. \\n Final dimension of each instance: {X_tst[0].shape[0]}\")\n",
    "    \n",
    "    # capture data preparation time\n",
    "    data_prep_time = time.time()\n",
    "    data_prep_duration = data_prep_time - start_time\n",
    "    compute_time[f'bestparam{i}'].append(data_prep_duration)\n",
    "\n",
    "    # training\n",
    "    print('Starting classification --------------')\n",
    "    print('The PHCA model is learning from the data ...')\n",
    "    labels[f'phca_bestparam{i}'] = []\n",
    "    phca_model = PersistentHomologyClassifier()\n",
    "    phca_model.fit(X_trn, y_train)\n",
    "\n",
    "    # capture training time\n",
    "    training_time = time.time()\n",
    "    training_duration = training_time - data_prep_time\n",
    "    compute_time[f'bestparam{i}'].append(training_duration)\n",
    "    \n",
    "    # predicting\n",
    "    print(\"Model finished learning. \\n\")\n",
    "    print(\"The model is now predicting new data ...\")\n",
    "    labels[f'phca_bestparam{i}'].extend(phca_model.predict(X_tst))\n",
    "\n",
    "    # capture prediction time\n",
    "    predict_time = time.time()\n",
    "    predict_duration = predict_time - training_time\n",
    "    compute_time[f'bestparam{i}'].append(predict_duration)\n",
    "\n",
    "    # --- classification report\n",
    "    metrics = ['precision', 'recall', 'f1-score', 'specificity', 'support', 'accuracy']\n",
    "    report = classification_report(labels['true_labels'], labels[f'phca_bestparam{i}'])\n",
    "    print(report)\n",
    "    plot_metrics(predicted_labels=labels[f'phca_bestparam{i}'],\n",
    "                true_labels=labels['true_labels'],\n",
    "                measurements=metrics, save=False)"
   ]
  },
  {
   "cell_type": "code",
   "execution_count": 8,
   "id": "9980d209",
   "metadata": {},
   "outputs": [
    {
     "data": {
      "text/plain": [
       "{'bestparam0': [1078.0335261821747, 3.3857643604278564, 4837.674439907074],\n",
       " 'bestparam1': [],\n",
       " 'details': ['data_prep', 'train', 'predict']}"
      ]
     },
     "execution_count": 8,
     "metadata": {},
     "output_type": "execute_result"
    }
   ],
   "source": [
    "compute_time"
   ]
  },
  {
   "cell_type": "code",
   "execution_count": 19,
   "id": "2923282a",
   "metadata": {},
   "outputs": [],
   "source": [
    "np.save('report.npy', classification_report(labels['true_labels'], labels['phca'], output_dict=True))"
   ]
  },
  {
   "cell_type": "code",
   "execution_count": 20,
   "id": "9a163a61",
   "metadata": {},
   "outputs": [],
   "source": [
    "np.save('predicted_labels.npy', labels)"
   ]
  },
  {
   "cell_type": "code",
   "execution_count": 22,
   "id": "73089d63",
   "metadata": {},
   "outputs": [
    {
     "data": {
      "text/plain": [
       "((6105, 2432), (1527, 2432))"
      ]
     },
     "execution_count": 22,
     "metadata": {},
     "output_type": "execute_result"
    }
   ],
   "source": [
    "X_train.shape, X_test.shape"
   ]
  },
  {
   "cell_type": "code",
   "execution_count": null,
   "id": "c2426c02",
   "metadata": {},
   "outputs": [],
   "source": []
  }
 ],
 "metadata": {
  "kernelspec": {
   "display_name": ".venv",
   "language": "python",
   "name": "python3"
  },
  "language_info": {
   "codemirror_mode": {
    "name": "ipython",
    "version": 3
   },
   "file_extension": ".py",
   "mimetype": "text/x-python",
   "name": "python",
   "nbconvert_exporter": "python",
   "pygments_lexer": "ipython3",
   "version": "3.10.18"
  }
 },
 "nbformat": 4,
 "nbformat_minor": 5
}
